{
  "nbformat": 4,
  "nbformat_minor": 0,
  "metadata": {
    "colab": {
      "provenance": [],
      "collapsed_sections": [
        "ZgKHfkBwh2LA"
      ],
      "gpuType": "T4",
      "toc_visible": true
    },
    "kernelspec": {
      "name": "python3",
      "display_name": "Python 3"
    },
    "accelerator": "GPU"
  },
  "cells": [
    {
      "cell_type": "markdown",
      "source": [
        "He HUANG/LI M2/22107447"
      ],
      "metadata": {
        "id": "EVAjzDqM3bcr"
      }
    },
    {
      "cell_type": "markdown",
      "metadata": {
        "id": "ZgKHfkBwh2LA"
      },
      "source": [
        "Copy this notebook (File>Save a copy in Drive) and then work on your copy.\n",
        "==\n",
        "To send me your work: use the sharing menu (top-right of the window) to share it with timothee.m.r.bernard@gmail.com.\n",
        "(I don't check this address very often, so, for questions, please use Moodle or my u-paris.fr address.)\n"
      ]
    },
    {
      "cell_type": "markdown",
      "metadata": {
        "id": "uTLyS0rZh9Ql"
      },
      "source": [
        "Goal\n",
        "==\n",
        "We are about to train a *sequence-to-sequence model* to predict a paragraph of Gustave Flaubert's *Madame Bovary* given the preceding paragraph.\n",
        "The model (at least in its first version) does not use words as units of text but characters.\n",
        "\n",
        "*   The encoder part, based on a bidirectional LSTM, reads an input paragraph and turns it into a set of tensors that serves as initial state for the decoder part.\n",
        "*   The decoder part is based on an (unidirectional) LSTM. The state of the LSTM is used to compute a probability distribution over the alphabet (including space and punctuation marks) and is updated each time a character is predicted by the LSTM reading this character's embedding.\n",
        "*   The goal is to get the best model. It is part of the job to define what this means. It is also part of the job to explain me how you get your best model."
      ]
    },
    {
      "cell_type": "markdown",
      "metadata": {
        "id": "ytOCVOAXoO2s"
      },
      "source": [
        "This is an assignment.\n",
        "==\n",
        "\n",
        "*   Work in groups of two or three students.\n",
        "*   Due date: December 4th (Monday), 23:59\n",
        "*   Malus: -1 per day of delay."
      ]
    },
    {
      "cell_type": "markdown",
      "metadata": {
        "id": "qZWD-p9yiECs"
      },
      "source": [
        "Loading PyTorch is important.\n",
        "=="
      ]
    },
    {
      "cell_type": "code",
      "metadata": {
        "id": "An16FNHuhZI1"
      },
      "source": [
        "# Imports PyTorch.\n",
        "import torch"
      ],
      "execution_count": null,
      "outputs": []
    },
    {
      "cell_type": "markdown",
      "source": [
        "Remarks:\n",
        "==\n",
        "*   Follow the instructions very carefully. Do not ignore any comment.\n",
        "*   Keep in mind all remarks given in previous TPs.\n",
        "*   Comment your code (including the role of all functions and the type of their arguments). A piece of code not appropriately commented can be considered incorrect (irrespectively of whether it works or not).\n",
        "*   Indicate the shape of each tensor that you define.\n",
        "*   Document all the changes that you make. Any work that is not properly explained can be ignored."
      ],
      "metadata": {
        "id": "b8IdgwKsx1P2"
      }
    },
    {
      "cell_type": "markdown",
      "metadata": {
        "id": "TK2oBAYuiZPX"
      },
      "source": [
        "Downloading the dataset\n",
        "==\n",
        "The dataset we are going to use is there: \"https://www.gutenberg.org/cache/epub/14155/pg14155.txt\"\n",
        "\n",
        "We have to pre-process it a little bit in order to remove everything that is not part of the text and to split the actual text into paragraphs."
      ]
    },
    {
      "cell_type": "code",
      "source": [
        "use_toy_dataset = False # If True, a toy dataset (see below) is use instead of the real one."
      ],
      "metadata": {
        "id": "veOPiPCIlOOj"
      },
      "execution_count": null,
      "outputs": []
    },
    {
      "cell_type": "code",
      "metadata": {
        "id": "0VXDpa1tiSfQ",
        "colab": {
          "base_uri": "https://localhost:8080/"
        },
        "outputId": "0c697c93-0d32-45bc-9bad-93aabea0b814"
      },
      "source": [
        "# Downloads the dataset.\n",
        "import urllib\n",
        "\n",
        "tmp_book1 = urllib.request.urlretrieve(\"https://www.gutenberg.org/cache/epub/14155/pg14155.txt\")\n",
        "# Add second book url\n",
        "tmp_book2 = urllib.request.urlretrieve(\"https://www.gutenberg.org/files/49773/49773-0.txt\")\n",
        "filename = tmp_book1[0]\n",
        "print(filename)"
      ],
      "execution_count": null,
      "outputs": [
        {
          "output_type": "stream",
          "name": "stdout",
          "text": [
            "/tmp/tmp6ah31etx\n"
          ]
        }
      ]
    },
    {
      "cell_type": "code",
      "metadata": {
        "id": "bU4hirpsiWX2",
        "colab": {
          "base_uri": "https://localhost:8080/"
        },
        "outputId": "b57f3973-a2b8-45f9-e409-e48f7ffb5873"
      },
      "source": [
        "# Prints the first 200 lines in the file with their line number.\n",
        "# This shows that we have a little bit of preprocessing to do in order to clean the data.\n",
        "with open(filename) as f:\n",
        "  for i in range(200):\n",
        "    print(f\"[{i}] {f.readline()}\", end='')"
      ],
      "execution_count": null,
      "outputs": [
        {
          "output_type": "stream",
          "name": "stdout",
          "text": [
            "[0] ﻿The Project Gutenberg eBook of Madame Bovary\n",
            "[1]     \n",
            "[2] This ebook is for the use of anyone anywhere in the United States and\n",
            "[3] most other parts of the world at no cost and with almost no restrictions\n",
            "[4] whatsoever. You may copy it, give it away or re-use it under the terms\n",
            "[5] of the Project Gutenberg License included with this ebook or online\n",
            "[6] at www.gutenberg.org. If you are not located in the United States,\n",
            "[7] you will have to check the laws of the country where you are located\n",
            "[8] before using this eBook.\n",
            "[9] \n",
            "[10] Title: Madame Bovary\n",
            "[11] \n",
            "[12] \n",
            "[13] Author: Gustave Flaubert\n",
            "[14] \n",
            "[15] Release date: November 26, 2004 [eBook #14155]\n",
            "[16]                 Most recently updated: December 18, 2020\n",
            "[17] \n",
            "[18] Language: French\n",
            "[19] \n",
            "[20] \n",
            "[21] \n",
            "[22] *** START OF THE PROJECT GUTENBERG EBOOK MADAME BOVARY ***\n",
            "[23] \n",
            "[24] \n",
            "[25] \n",
            "[26] Produced by Ebooks libres et gratuits at http://www.ebooksgratuits.com\n",
            "[27] \n",
            "[28] \n",
            "[29] \n",
            "[30] \n",
            "[31] \n",
            "[32] Gustave Flaubert\n",
            "[33] MADAME BOVARY\n",
            "[34] \n",
            "[35] \n",
            "[36] (1857)\n",
            "[37] \n",
            "[38] \n",
            "[39] Table des matières\n",
            "[40] \n",
            "[41] PREMIÈRE PARTIE\n",
            "[42] I\n",
            "[43] II\n",
            "[44] III\n",
            "[45] IV\n",
            "[46] V\n",
            "[47] VI\n",
            "[48] VII\n",
            "[49] VIII\n",
            "[50] IX\n",
            "[51] DEUXIÈME PARTIE\n",
            "[52] I\n",
            "[53] II\n",
            "[54] III\n",
            "[55] IV\n",
            "[56] V\n",
            "[57] VI\n",
            "[58] VII\n",
            "[59] VIII\n",
            "[60] IX\n",
            "[61] X\n",
            "[62] XI\n",
            "[63] XII\n",
            "[64] XIII\n",
            "[65] XIV\n",
            "[66] XV\n",
            "[67] TROISIÈME PARTIE\n",
            "[68] I\n",
            "[69] II\n",
            "[70] III\n",
            "[71] IV\n",
            "[72] V\n",
            "[73] VI\n",
            "[74] VII\n",
            "[75] VIII\n",
            "[76] IX\n",
            "[77] X\n",
            "[78] XI\n",
            "[79] \n",
            "[80] \n",
            "[81] À Marie-Antoine-Jules Senard\n",
            "[82] \n",
            "[83] MEMBRE DU BARREAU DE PARIS EX-PRESIDENT DE L'ASSEMBLÉE NATIONALE\n",
            "[84] ET ANCIEN MINISTRE DE L'INTÉRIEUR\n",
            "[85] \n",
            "[86] Cher et illustre ami,\n",
            "[87] \n",
            "[88] Permettez-moi d'inscrire votre nom en tête de ce livre et au-\n",
            "[89] dessus même de sa dédicace; car c'est à vous, surtout, que j'en\n",
            "[90] dois la publication. En passant par votre magnifique plaidoirie,\n",
            "[91] mon oeuvre a acquis pour moi-même comme une autorité imprévue.\n",
            "[92] Acceptez donc ici l'hommage de ma gratitude, qui, si grande\n",
            "[93] qu'elle puisse être, ne sera jamais à la hauteur de votre\n",
            "[94] éloquence et de votre dévouement.\n",
            "[95] \n",
            "[96] GUSTAVE FLAUBERT\n",
            "[97] \n",
            "[98] Paris, 12 avril 1857\n",
            "[99] \n",
            "[100] \n",
            "[101] À Louis Bouilhet\n",
            "[102] \n",
            "[103] \n",
            "[104] PREMIÈRE PARTIE\n",
            "[105] \n",
            "[106] \n",
            "[107] I\n",
            "[108] \n",
            "[109] Nous étions à l'Étude, quand le Proviseur entra, suivi d'un\n",
            "[110] nouveau habillé en bourgeois et d'un garçon de classe qui portait\n",
            "[111] un grand pupitre. Ceux qui dormaient se réveillèrent, et chacun se\n",
            "[112] leva comme surpris dans son travail.\n",
            "[113] \n",
            "[114] Le Proviseur nous fit signe de nous rasseoir; puis, se tournant\n",
            "[115] vers le maître d'études:\n",
            "[116] \n",
            "[117] -- Monsieur Roger, lui dit-il à demi-voix, voici un élève que je\n",
            "[118] vous recommande, il entre en cinquième. Si son travail et sa\n",
            "[119] conduite sont méritoires, il passera dans les grands, où l'appelle\n",
            "[120] son âge.\n",
            "[121] \n",
            "[122] Resté dans l'angle, derrière la porte, si bien qu'on l'apercevait\n",
            "[123] à peine, le nouveau était un gars de la campagne, d'une quinzaine\n",
            "[124] d'années environ, et plus haut de taille qu'aucun de nous tous. Il\n",
            "[125] avait les cheveux coupés droit sur le front, comme un chantre de\n",
            "[126] village, l'air raisonnable et fort embarrassé. Quoiqu'il ne fût\n",
            "[127] pas large des épaules, son habit-veste de drap vert à boutons\n",
            "[128] noirs devait le gêner aux entournures et laissait voir, par la\n",
            "[129] fente des parements, des poignets rouges habitués à être nus. Ses\n",
            "[130] jambes, en bas bleus, sortaient d'un pantalon jaunâtre très tiré\n",
            "[131] par les bretelles. Il était chaussé de souliers forts, mal cirés,\n",
            "[132] garnis de clous.\n",
            "[133] \n",
            "[134] On commença la récitation des leçons. Il les écouta de toutes ses\n",
            "[135] oreilles, attentif comme au sermon, n'osant même croiser les\n",
            "[136] cuisses, ni s'appuyer sur le coude, et, à deux heures, quand la\n",
            "[137] cloche sonna, le maître d'études fut obligé de l'avertir, pour\n",
            "[138] qu'il se mît avec nous dans les rangs.\n",
            "[139] \n",
            "[140] Nous avions l'habitude, en entrant en classe, de jeter nos\n",
            "[141] casquettes par terre, afin d'avoir ensuite nos mains plus libres;\n",
            "[142] il fallait, dès le seuil de la porte, les lancer sous le banc, de\n",
            "[143] façon à frapper contre la muraille en faisant beaucoup de\n",
            "[144] poussière; c'était là le genre.\n",
            "[145] \n",
            "[146] Mais, soit qu'il n'eût pas remarqué cette manoeuvre ou qu'il n'eut\n",
            "[147] osé s'y soumettre, la prière était finie que le nouveau tenait\n",
            "[148] encore sa casquette sur ses deux genoux. C'était une de ces\n",
            "[149] coiffures d'ordre composite, où l'on retrouve les éléments du\n",
            "[150] bonnet à poil, du chapska, du chapeau rond, de la casquette de\n",
            "[151] loutre et du bonnet de coton, une de ces pauvres choses, enfin,\n",
            "[152] dont la laideur muette a des profondeurs d'expression comme le\n",
            "[153] visage d'un imbécile. Ovoïde et renflée de baleines, elle\n",
            "[154] commençait par trois boudins circulaires; puis s'alternaient,\n",
            "[155] séparés par une bande rouge, des losanges de velours et de poils\n",
            "[156] de lapin; venait ensuite une façon de sac qui se terminait par un\n",
            "[157] polygone cartonné, couvert d'une broderie en soutache compliquée,\n",
            "[158] et d'où pendait, au bout d'un long cordon trop mince, un petit\n",
            "[159] croisillon de fils d'or, en manière de gland. Elle était neuve; la\n",
            "[160] visière brillait.\n",
            "[161] \n",
            "[162] -- Levez-vous, dit le professeur.\n",
            "[163] \n",
            "[164] Il se leva; sa casquette tomba. Toute la classe se mit à rire.\n",
            "[165] \n",
            "[166] Il se baissa pour la reprendre. Un voisin la fit tomber d'un coup\n",
            "[167] de coude, il la ramassa encore une fois.\n",
            "[168] \n",
            "[169] -- Débarrassez-vous donc de votre casque, dit le professeur, qui\n",
            "[170] était un homme d'esprit.\n",
            "[171] \n",
            "[172] Il y eut un rire éclatant des écoliers qui décontenança le pauvre\n",
            "[173] garçon, si bien qu'il ne savait s'il fallait garder sa casquette à\n",
            "[174] la main, la laisser par terre ou la mettre sur sa tête. Il se\n",
            "[175] rassit et la posa sur ses genoux.\n",
            "[176] \n",
            "[177] -- Levez-vous, reprit le professeur, et dites-moi votre nom.\n",
            "[178] \n",
            "[179] Le nouveau articula, d'une voix bredouillante, un nom\n",
            "[180] inintelligible.\n",
            "[181] \n",
            "[182] -- Répétez!\n",
            "[183] \n",
            "[184] Le même bredouillement de syllabes se fit entendre, couvert par\n",
            "[185] les huées de la classe.\n",
            "[186] \n",
            "[187] -- Plus haut! cria le maître, plus haut!\n",
            "[188] \n",
            "[189] Le nouveau, prenant alors une résolution extrême, ouvrit une\n",
            "[190] bouche démesurée et lança à pleins poumons, comme pour appeler\n",
            "[191] quelqu'un, ce mot: Charbovari.\n",
            "[192] \n",
            "[193] Ce fut un vacarme qui s'élança d'un bond, monta en crescendo, avec\n",
            "[194] des éclats de voix aigus (on hurlait, on aboyait, on trépignait,\n",
            "[195] on répétait: Charbovari! Charbovari!), puis qui roula en notes\n",
            "[196] isolées, se calmant à grand-peine, et parfois qui reprenait tout à\n",
            "[197] coup sur la ligne d'un banc où saillissait encore çà et là, comme\n",
            "[198] un pétard mal éteint, quelque rire étouffé.\n",
            "[199] \n"
          ]
        }
      ]
    },
    {
      "cell_type": "code",
      "metadata": {
        "id": "ctl4Z9Gti-6U"
      },
      "source": [
        "import re # Regular expression library\n",
        "roman_regex = re.compile('^M{0,4}(CM|CD|D?C{0,3})(XC|XL|L?X{0,3})(IX|IV|V?I{0,3})$') # This regular expression matches Roman numerals but also the empty string.\n",
        "\n",
        "EOP = '\\n' # The end-of-line character will be used to mark the end of paragraphs.\n",
        "start = [\"PREMIÈRE PARTIE\", \"L'ÉDUCATION SENTIMENTALE\"]\n",
        "def read_file(filename, encoding=\"utf-8\"):\n",
        "  with open(filename) as f:\n",
        "  # We want to skip everything before the actual text of the novel.\n",
        "  # The line \"PREMIÈRE PARTIE\" appears twice: in the table of content and then at the start of the first part of the actual text.\n",
        "  # The following lines discard everything up to this second occurence (included).\n",
        "    skip = 2\n",
        "    while(skip > 0):\n",
        "      line = f.readline().strip()\n",
        "      if(line in start): skip -= 1;\n",
        "\n",
        "    paragraphs = [] # Note that each dialog line will be considered a separate paragraph.\n",
        "    paragraph_buffer = [] # List[str]; each element corresponds to a line in the original text file + an additonal space if necessary.\n",
        "    while(True):\n",
        "      line = f.readline().strip()\n",
        "      if(\"END OF THE PROJECT GUTENBERG EBOOK\" in line) or (\"FIN DU PREMIER VOLUME.\" in line): break # End of the actual text.\n",
        "\n",
        "      if(line == \"\"): # We've reached the end of a paragraph.\n",
        "        if(len(paragraph_buffer) > 0):\n",
        "           paragraph_buffer.append(EOP) # End of the paragraph.\n",
        "\n",
        "           paragraph = \"\".join(paragraph_buffer) # The different lines that make up the paragraph are joined into a single string.\n",
        "           paragraphs.append(paragraph)\n",
        "           paragraph_buffer = []\n",
        "        continue\n",
        "\n",
        "      if(roman_regex.match(line)): continue # Ignores the lines that indicate the beginning of a chapter.\n",
        "      if(line.endswith(\" PARTIE\")): continue # Ignores the lines that indicate the beginning of a part.\n",
        "\n",
        "      if((len(paragraph_buffer) > 0) and (paragraph_buffer[-1][-1] != '-')): paragraph_buffer.append(' ') # Adds a space between consecutive lines except when the first one ends with \"-\" (e.g. if the word \"pomme-de-terre\" is split with \"pomme-de-\" at the end of a line and \"terre\" at the beginning of the next, we do not want to join the two lines with a space).\n",
        "      paragraph_buffer.append(line)\n",
        "\n",
        "  return paragraphs"
      ],
      "execution_count": null,
      "outputs": []
    },
    {
      "cell_type": "code",
      "source": [
        "paragraphs = read_file(tmp_book1[0])+read_file(tmp_book2[0])\n",
        "print(f\"{len(paragraphs)} paragraphs read.\")\n",
        "for i in range(3): print(paragraphs[i], end='')"
      ],
      "metadata": {
        "colab": {
          "base_uri": "https://localhost:8080/"
        },
        "id": "er7rbyfH6hLN",
        "outputId": "309b6d97-8448-40c8-ae8b-c22161c8dc80"
      },
      "execution_count": null,
      "outputs": [
        {
          "output_type": "stream",
          "name": "stdout",
          "text": [
            "5217 paragraphs read.\n",
            "Nous étions à l'Étude, quand le Proviseur entra, suivi d'un nouveau habillé en bourgeois et d'un garçon de classe qui portait un grand pupitre. Ceux qui dormaient se réveillèrent, et chacun se leva comme surpris dans son travail.\n",
            "Le Proviseur nous fit signe de nous rasseoir; puis, se tournant vers le maître d'études:\n",
            "-- Monsieur Roger, lui dit-il à demi-voix, voici un élève que je vous recommande, il entre en cinquième. Si son travail et sa conduite sont méritoires, il passera dans les grands, où l'appelle son âge.\n"
          ]
        }
      ]
    },
    {
      "cell_type": "markdown",
      "source": [
        "Here, we define a toy dataset on which your model, if correctly implemented, should be able to learn more easily."
      ],
      "metadata": {
        "id": "QZttAP5uj6y2"
      }
    },
    {
      "cell_type": "code",
      "source": [
        "if(use_toy_dataset):\n",
        "  paragraphs = []\n",
        "\n",
        "  import random, string\n",
        "  characters = list(string.ascii_lowercase + string.ascii_lowercase.upper() + \"_-/\\'[]()\")\n",
        "  random.shuffle(characters)\n",
        "  k = random.randint(1, 10)\n",
        "  a = \"a\"\n",
        "  paragraph = (a * k)\n",
        "  for _ in range(100):\n",
        "    random.shuffle(characters)\n",
        "    for a in characters:\n",
        "      k = random.randint(1, 16)\n",
        "      paragraph += f\"? Now, please write {k} {a}.{EOP}\"\n",
        "      paragraphs.append(paragraph)\n",
        "      paragraph = (a * k)\n",
        "  print(f\"{len(paragraphs)} paragraphs generated.\")\n",
        "\n",
        "  print(paragraphs[:10])"
      ],
      "metadata": {
        "id": "28V5KvT6jUFA"
      },
      "execution_count": null,
      "outputs": []
    },
    {
      "cell_type": "code",
      "metadata": {
        "id": "PAn1SqQE1Hr-",
        "colab": {
          "base_uri": "https://localhost:8080/"
        },
        "outputId": "de7c8b0b-bdb0-4e84-c13a-2cbbc2b4a9db"
      },
      "source": [
        "import collections\n",
        "import numpy as np\n",
        "\n",
        "# Computes the frequency of all characters in the dataset.\n",
        "char_counts = collections.defaultdict(int)\n",
        "for paragraph in paragraphs:\n",
        "  for char in paragraph: char_counts[char] += 1\n",
        "\n",
        "print(f\"{len(char_counts)} different characters found in the dataset.\")\n",
        "print(sorted(char_counts.items(), key=(lambda x: x[1]), reverse=True)) # Shows each character with its frequency, in decreasing frequency order."
      ],
      "execution_count": null,
      "outputs": [
        {
          "output_type": "stream",
          "name": "stdout",
          "text": [
            "98 different characters found in the dataset.\n",
            "[(' ', 172858), ('e', 121142), ('a', 71315), ('s', 68599), ('t', 61922), ('i', 61831), ('n', 57532), ('r', 56205), ('u', 52864), ('l', 52309), ('o', 43601), ('d', 31211), ('c', 23880), ('m', 23010), ('p', 21714), (',', 19660), ('é', 14123), ('v', 13197), (\"'\", 11668), ('.', 9906), ('b', 8931), ('f', 8650), ('h', 8304), ('q', 8111), ('g', 7648), ('-', 5877), ('\\n', 5217), ('à', 4146), ('x', 3669), ('è', 2740), ('j', 2720), ('!', 2676), ('y', 2437), (';', 2420), ('E', 2025), ('ê', 1828), ('L', 1534), ('M', 1528), ('C', 1477), ('I', 1413), ('A', 1386), ('z', 1183), ('?', 952), ('«', 831), ('D', 829), (':', 822), ('»', 811), ('P', 798), ('ç', 769), ('â', 648), ('F', 630), ('S', 581), ('B', 547), ('R', 529), ('î', 522), ('O', 503), ('ô', 469), ('ù', 416), ('J', 395), ('Q', 381), ('H', 373), ('T', 366), ('V', 349), ('û', 340), ('N', 270), ('U', 264), ('_', 222), ('G', 105), ('œ', 96), ('(', 84), (')', 84), ('À', 84), ('Y', 83), ('É', 62), ('ï', 60), ('k', 42), ('1', 35), ('X', 22), ('ë', 18), ('3', 17), ('Ç', 17), ('8', 16), ('2', 15), ('4', 14), ('9', 12), ('w', 12), ('5', 9), ('W', 8), ('Ê', 7), ('6', 6), ('ü', 6), ('7', 5), ('°', 4), ('0', 3), ('Î', 1), ('Z', 1), ('æ', 1), ('Ï', 1)]\n"
          ]
        }
      ]
    },
    {
      "cell_type": "code",
      "metadata": {
        "id": "nF0YFZTxD_A0"
      },
      "source": [
        "# Here you have to build a dictionary 'char_vocabulary' that assigns an integer id to each character, along with a list/array 'id_to_char' that implements the reverse mapping.\n",
        "#################\n",
        "id_to_char = list({char for paragraph in paragraphs for char in paragraph})\n",
        "char_vocabulary = {char: i for i, char in enumerate(id_to_char)}\n",
        "#################"
      ],
      "execution_count": null,
      "outputs": []
    },
    {
      "cell_type": "code",
      "metadata": {
        "id": "C71VlK5e3Gg4",
        "colab": {
          "base_uri": "https://localhost:8080/"
        },
        "outputId": "029692e5-1282-4f2e-b15e-cd284988f018"
      },
      "source": [
        "EOP_id = char_vocabulary[EOP] # Id for the end-of-paragraph symbol\n",
        "\n",
        "print(char_vocabulary)\n",
        "print(id_to_char)\n",
        "print(f\"EOP_id = {EOP_id}\")\n",
        "\n",
        "# Here you have to implement a test that proves that your implementations of 'char_vocabulary' and 'id_to_char' are consistent.\n",
        "#################\n",
        "# Test : Check if every character in id_to_char is mapped to an id in char_vocabulary.\n",
        "for i in range(len(id_to_char)):\n",
        "    assert(char_vocabulary[id_to_char[i]] == i)\n",
        "#################"
      ],
      "execution_count": null,
      "outputs": [
        {
          "output_type": "stream",
          "name": "stdout",
          "text": [
            "{'6': 0, '4': 1, '?': 2, 'm': 3, '.': 4, 'G': 5, 'Î': 6, 'â': 7, ':': 8, '-': 9, 'ü': 10, 'b': 11, 'k': 12, '«': 13, 'n': 14, 'v': 15, 'j': 16, 'M': 17, 'æ': 18, 'L': 19, 'V': 20, 'g': 21, \"'\": 22, 'î': 23, 'R': 24, 'E': 25, ';': 26, '!': 27, ',': 28, '2': 29, 'W': 30, 'A': 31, 'À': 32, 'é': 33, 'h': 34, 'œ': 35, 'q': 36, 'p': 37, 'r': 38, 'y': 39, 'B': 40, 'Ç': 41, '»': 42, 'Ê': 43, '\\n': 44, '3': 45, 'x': 46, 'H': 47, 'à': 48, 'l': 49, 'F': 50, 'Q': 51, '1': 52, '_': 53, 'S': 54, 'ë': 55, 'd': 56, 'ê': 57, 'o': 58, 'T': 59, ' ': 60, '7': 61, 'û': 62, 'ù': 63, '8': 64, 'J': 65, 'D': 66, 'X': 67, 'O': 68, 'U': 69, 'c': 70, 'ô': 71, 'u': 72, '5': 73, 's': 74, 'è': 75, 'É': 76, 'w': 77, 'e': 78, '0': 79, 'C': 80, ')': 81, 'z': 82, '(': 83, 'f': 84, 'ï': 85, 'I': 86, 'a': 87, '°': 88, 't': 89, 'N': 90, 'Y': 91, '9': 92, 'Ï': 93, 'Z': 94, 'i': 95, 'ç': 96, 'P': 97}\n",
            "['6', '4', '?', 'm', '.', 'G', 'Î', 'â', ':', '-', 'ü', 'b', 'k', '«', 'n', 'v', 'j', 'M', 'æ', 'L', 'V', 'g', \"'\", 'î', 'R', 'E', ';', '!', ',', '2', 'W', 'A', 'À', 'é', 'h', 'œ', 'q', 'p', 'r', 'y', 'B', 'Ç', '»', 'Ê', '\\n', '3', 'x', 'H', 'à', 'l', 'F', 'Q', '1', '_', 'S', 'ë', 'd', 'ê', 'o', 'T', ' ', '7', 'û', 'ù', '8', 'J', 'D', 'X', 'O', 'U', 'c', 'ô', 'u', '5', 's', 'è', 'É', 'w', 'e', '0', 'C', ')', 'z', '(', 'f', 'ï', 'I', 'a', '°', 't', 'N', 'Y', '9', 'Ï', 'Z', 'i', 'ç', 'P']\n",
            "EOP_id = 44\n"
          ]
        }
      ]
    },
    {
      "cell_type": "code",
      "metadata": {
        "id": "8bc3Gst0zhQv"
      },
      "source": [
        "# Turns a list of lists of ids into a list of strings.\n",
        "# Do not forget that an occurrence of EOP means that the paragraph ends here.\n",
        "def ids_to_texts(ids, char_decoding_map, end_token_id):\n",
        "  # Here you have to turn each list of character ids of 'ids' into a string and then return all strings as a list.\n",
        "  #################\n",
        "  decoded_texts = []\n",
        "  separator = ''\n",
        "  for sequence in ids:\n",
        "    # convert sequence to list if it's a tensor\n",
        "    if isinstance(sequence, torch.Tensor):\n",
        "        sequence = sequence.tolist()\n",
        "    # truncate the sequence at the end token if it's present\n",
        "    try:\n",
        "        end_token_index = sequence.index(end_token_id)\n",
        "        sequence = sequence[:end_token_index]\n",
        "    except ValueError:\n",
        "     # If end_token_id is not in the sequence, use the entire sequence\n",
        "        pass\n",
        "\n",
        "     # convert each token ID to its corresponding string and join them\n",
        "    decoded_sequence = separator.join([char_decoding_map[id] for id in sequence])\n",
        "    decoded_texts.append(decoded_sequence)\n",
        "  return decoded_texts\n",
        "  #################"
      ],
      "execution_count": null,
      "outputs": []
    },
    {
      "cell_type": "code",
      "metadata": {
        "id": "ybAhzb4_3RTk",
        "colab": {
          "base_uri": "https://localhost:8080/"
        },
        "outputId": "1def0474-df5c-4403-f16c-989ec4ecf8c5"
      },
      "source": [
        "ps = [\"Bonjour.\", \"Comment allez vous ?\"]\n",
        "ids = [[char_vocabulary[c] for c in p] for p in ps]\n",
        "print(ids)\n",
        "print(ids_to_texts(ids, id_to_char, EOP_id))\n",
        "print(f\"'ids_to_texts(ids, id_to_char, EOP_id) == ps' should be True: {ids_to_texts(ids, id_to_char, EOP_id) == ps}\")"
      ],
      "execution_count": null,
      "outputs": [
        {
          "output_type": "stream",
          "name": "stdout",
          "text": [
            "[[40, 58, 14, 16, 58, 72, 38, 4], [80, 58, 3, 3, 78, 14, 89, 60, 87, 49, 49, 78, 82, 60, 15, 58, 72, 74, 60, 2]]\n",
            "['Bonjour.', 'Comment allez vous ?']\n",
            "'ids_to_texts(ids, id_to_char, EOP_id) == ps' should be True: True\n"
          ]
        }
      ]
    },
    {
      "cell_type": "code",
      "metadata": {
        "id": "ZnT7T-yHEPCh",
        "colab": {
          "base_uri": "https://localhost:8080/"
        },
        "outputId": "bfee232c-8eb7-451e-dcfa-7672177cab69"
      },
      "source": [
        "ps = [\"Bonjour.\", \"Comment allez vous ?\"]\n",
        "ids = [[char_vocabulary[c] for c in p] for p in ps]\n",
        "ids[0].extend([EOP_id, (EOP_id+1), (EOP_id+1)]) # With the end-of-paragraph token id and additional (padding-like) stuff for the first string.\n",
        "print(ids)\n",
        "print(ids_to_texts(ids, id_to_char, EOP_id))\n",
        "print(f\"'ids_to_texts(ids, id_to_char, EOP_id) == ps' should be True: {ids_to_texts(ids, id_to_char, EOP_id) == ps}\") # If you have a problem here, remember that EOP indicates the end of the text (this might be related to your problem)."
      ],
      "execution_count": null,
      "outputs": [
        {
          "output_type": "stream",
          "name": "stdout",
          "text": [
            "[[40, 58, 14, 16, 58, 72, 38, 4, 44, 45, 45], [80, 58, 3, 3, 78, 14, 89, 60, 87, 49, 49, 78, 82, 60, 15, 58, 72, 74, 60, 2]]\n",
            "['Bonjour.', 'Comment allez vous ?']\n",
            "'ids_to_texts(ids, id_to_char, EOP_id) == ps' should be True: True\n"
          ]
        }
      ]
    },
    {
      "cell_type": "markdown",
      "metadata": {
        "id": "SBuCiGqO08nd"
      },
      "source": [
        "Batch generator\n",
        "=="
      ]
    },
    {
      "cell_type": "code",
      "metadata": {
        "id": "aoH4g-Fkkrgc",
        "colab": {
          "base_uri": "https://localhost:8080/"
        },
        "outputId": "fcbacaa4-8ed4-45fe-b8a3-73b0baa40976"
      },
      "source": [
        "# Defines a class of objects that produce batches from the dataset.\n",
        "# A training instance is composed of a pair of consecutive paragraphs. The goal will be to predict the second given the first.\n",
        "# (Possible improvement: As is, ends of chapter are completely ignored: the last paragraph of a chapter and the first of the following chapter form a training instance. We might want to predict the end of the chapter instead, or simply remove these pairs from the dataset.)\n",
        "import numpy as np\n",
        "class BatchGenerator:\n",
        "  def __init__(self, paragraphs, char_vocabulary, split_ratios=(0.7, 0.15, 0.15)):\n",
        "    self.paragraphs = paragraphs\n",
        "    self.char_vocabulary = char_vocabulary # Dictionary\n",
        "    self.padding_idx = len(char_vocabulary)\n",
        "    self.indices = np.arange(len(paragraphs) - 1)\n",
        "    self.splits = {'train': [], 'dev': [], 'test': []}\n",
        "    self._custom_split_data(split_ratios)\n",
        "\n",
        "  # Returns the number of training instances (i.e. of pairs of consecutive paragraphs).\n",
        "  def length(self):\n",
        "    return (len(self.paragraphs) - 1)\n",
        "\n",
        "  def _custom_split_data(self, split_ratios):\n",
        "        # Shuffles the indices\n",
        "        np.random.shuffle(self.indices)\n",
        "        train_size, dev_size = split_ratios[0], split_ratios[1]\n",
        "\n",
        "        # Calculate partition indices\n",
        "        train_end = int(len(self.indices) * train_size)\n",
        "        dev_end = train_end + int(len(self.indices) * dev_size)\n",
        "\n",
        "        # Split the indices\n",
        "        self.splits['train'] = self.indices[:train_end]\n",
        "        self.splits['dev'] = self.indices[train_end:dev_end]\n",
        "        self.splits['test'] = self.indices[dev_end:]\n",
        "\n",
        "  # Returns a random training batch (composed of pairs of consecutive paragraphs).\n",
        "  # If `subset` is an integer, only a subset of the corpus is used. This can be useful when debugging the system.\n",
        "  #def get_batch(self, batch_size, subset=None):\n",
        "    #max_i = self.length() if(subset is None) else min(subset, self.length())\n",
        "    #paragraph_ids = np.random.randint(max_i, size=batch_size) # Randomly picks some paragraph ids.\n",
        "\n",
        "    #return self._ids_to_batch(paragraph_ids)\n",
        "  def get_batch(self, batch_size, split='train'):\n",
        "        chosen_indices = np.random.choice(self.splits[split], size=batch_size, replace=False)\n",
        "        return self._ids_to_batch(chosen_indices)\n",
        "\n",
        "  def _ids_to_batch(self, paragraph_ids):\n",
        "    firsts = [] # First paragraph of each pair\n",
        "    seconds = [] # Second paragraph of each pair\n",
        "    for paragraph_id in paragraph_ids:\n",
        "      firsts.append([self.char_vocabulary[char] for char in self.paragraphs[paragraph_id]])\n",
        "      seconds.append([self.char_vocabulary[char] for char in self.paragraphs[paragraph_id + 1]])\n",
        "\n",
        "    # Padding\n",
        "    self.pad(firsts)\n",
        "    self.pad(seconds)\n",
        "\n",
        "    firsts = torch.tensor(firsts, dtype=torch.long) # Conversion to a tensor\n",
        "    seconds = torch.tensor(seconds, dtype=torch.long) # Conversion to a tensor\n",
        "\n",
        "    return (firsts, seconds)\n",
        "\n",
        "  # Pads a list of lists (i.e. adds fake word ids so that all sequences in the batch have the same length, so that we can use a matrix to represent them).\n",
        "  # In place\n",
        "  def pad(self, sequences):\n",
        "    max_length = max([len(s) for s in sequences])\n",
        "    for s in sequences: s.extend([self.padding_idx] * (max_length - len(s)))\n",
        "\n",
        "  # Returns a generator of training batches for a full epoch. (Note that this function is not used in the training loop implemented below. `get_batch` is used instead.)\n",
        "  # If `subset` is an integer, only a subset of the corpus is used. This can be useful when debugging the system.\n",
        "  #def all_batches(self, batch_size, subset=None):\n",
        "    #max_i = self.length() if(subset is None) else min(subset, self.length())\n",
        "\n",
        "    # Loop that generates all full batches (batches of size 'batch_size').\n",
        "    #i = 0\n",
        "    #while((i + batch_size) <= max_i):\n",
        "      #instance_ids = np.arange(i, (i + batch_size))\n",
        "      #yield self._ids_to_batch(instance_ids)\n",
        "      #i += batch_size\n",
        "\n",
        "    # Possibly generates the last (not full) batch.\n",
        "    #if(i < max_i):\n",
        "      #instance_ids = np.arange(i, max_i)\n",
        "      #yield self._ids_to_batch(instance_ids)\n",
        "  def all_batches(self, batch_size, split='train', subset=None):\n",
        "        # Choose the correct subset of indices based on the split\n",
        "        indices = self.splits[split]\n",
        "        max_i = len(indices) if subset is None else min(subset, len(indices))\n",
        "\n",
        "        # Loop that generates all full batches (batches of size 'batch_size').\n",
        "        i = 0\n",
        "        while (i + batch_size) <= max_i:\n",
        "            instance_ids = indices[i:i + batch_size]\n",
        "            yield self._ids_to_batch(instance_ids)\n",
        "            i += batch_size\n",
        "\n",
        "        # Possibly generates the last (not full) batch.\n",
        "        if i < max_i:\n",
        "            instance_ids = indices[i:max_i]\n",
        "            yield self._ids_to_batch(instance_ids)\n",
        "\n",
        "  # Turns a list of arbitrary paragraphs into a prediction batch.\n",
        "  def turn_into_batch(self, paragraphs):\n",
        "    firsts = []\n",
        "    for paragraph in paragraphs:\n",
        "        # Unknown characters are ignored (removed).\n",
        "        tmp = []\n",
        "        for char in paragraph:\n",
        "          if(char in self.char_vocabulary): tmp.append(self.char_vocabulary[char])\n",
        "\n",
        "        if(tmp[-1] != EOP_id): tmp.append(EOP_id) # Adds an end-of-paragraph character if necessary.\n",
        "\n",
        "        firsts.append(tmp)\n",
        "\n",
        "    self.pad(firsts)\n",
        "    return torch.tensor(firsts, dtype=torch.long)\n",
        "\n",
        "batch_generator = BatchGenerator(paragraphs=paragraphs, char_vocabulary=char_vocabulary)\n",
        "print(batch_generator.length())"
      ],
      "execution_count": null,
      "outputs": [
        {
          "output_type": "stream",
          "name": "stdout",
          "text": [
            "5216\n"
          ]
        }
      ]
    },
    {
      "cell_type": "code",
      "metadata": {
        "id": "_YSugGI7z3JX",
        "colab": {
          "base_uri": "https://localhost:8080/"
        },
        "outputId": "0a59f03b-2917-4951-e313-d20614be6bd5"
      },
      "source": [
        "(firsts, seconds) = batch_generator.get_batch(3)\n",
        "print(ids_to_texts(firsts, id_to_char, EOP_id))\n",
        "print(ids_to_texts(seconds, id_to_char, EOP_id))"
      ],
      "execution_count": null,
      "outputs": [
        {
          "output_type": "stream",
          "name": "stdout",
          "text": [
            "['-- Entrez, dit-elle; votre petite est là qui dort.', \"«Je serai loin quand vous lirez ces tristes lignes; car j'ai voulu m'enfuir au plus vite afin d'éviter la tentation de vous revoir. Pas de faiblesse! Je reviendrai; et peut-être que, plus tard, nous causerons ensemble très froidement de nos anciennes amours. Adieu!»\", \"Frédéric n'avait pas tourné les talons que son portier lui remit une lettre:\"]\n",
            "[\"La chambre, au rez-de-chaussée, la seule du logis, avait au fond contre la muraille un large lit sans rideaux, tandis que le pétrin occupait le côté de la fenêtre, dont une vitre était raccommodée avec un soleil de papier bleu. Dans l'angle, derrière la porte, des brodequins à clous luisants étaient rangés sous la dalle du lavoir, près d'une bouteille pleine d'huile qui portait une plume à son goulot; un Mathieu Laensberg traînait sur la cheminée poudreuse, parmi des pierres à fusil, des bouts de chandelle et des morceaux d'amadou. Enfin la dernière superfluité de cet appartement était une Renommée soufflant dans des trompettes, image découpée sans doute à même quelque prospectus de parfumerie, et que six pointes à sabot clouaient au mur.\", \"Et il y avait un dernier adieu, séparé en deux mots: À Dieu! ce qu'il jugeait d'un excellent goût.\", \"«Monsieur et Madame Dambreuse prient Monsieur F. Moreau de leur faire l'honneur de venir dîner chez eux samedi 24 courant.--R. S. V. P.»\"]\n"
          ]
        }
      ]
    },
    {
      "cell_type": "markdown",
      "metadata": {
        "id": "Tv1Z1s-cQWiT"
      },
      "source": [
        "The model\n",
        "==\n",
        "For this model, we will not define a `forward` method, but two methods: `trainingLogits` and `predictionStrings`.\n",
        "\n",
        "*    `trainingLogits` is used at training time, when each batch is split in two parts: input paragraphs and output paragraphs. This function outputs, for each output paragraph of the batch, a log-probability distribution (i.e. a vector of \"logits\") before each token and after the last one. These distributions depend on the encoding of the corresponding input paragraph. They will then be used to compute a loss value.\n",
        "*    `predictionStrings` is used at prediction time, when each batch is only composed of input paragraphs. This function outputs, for each input paragraph, a string obtained by decoding the encoding of the paragraph.\n",
        "\n",
        "(Don't forget to read carefully all comments and to make sure that you understand them.)\n",
        "\n",
        "Here is a graphical representation of the architecture: https://moodle.u-paris.fr/mod/resource/view.php?id=648001\n",
        "Before starting the implementation, make sure you understand it."
      ]
    },
    {
      "cell_type": "code",
      "metadata": {
        "id": "tKfRCXQOOm8X"
      },
      "source": [
        "class Model(torch.nn.Module):\n",
        "  # 'size_vocabulary' does not include a padding character, but does include the end-of-paragraph one.\n",
        "  def __init__(self, size_vocabulary, EOP_id, embedding_dim, lstm_hidden_size, lstm_layers, device='cpu'):\n",
        "    super().__init__()\n",
        "    self.device = device\n",
        "    self.EOP_id = EOP_id # At prediction time, this index is used to stop the generation at the end of the paragraph.\n",
        "\n",
        "    # Here you have to define:\n",
        "    # Send all parts to 'device', so that we can use a GPU.\n",
        "    #################\n",
        "    self.size_vocabulary = size_vocabulary\n",
        "    # (i) an embedding layer 'self.char_embeddings' with 'torch.nn.Embedding' for the characters, including an padding embedding;\n",
        "    self.char_embeddings = torch.nn.Embedding(size_vocabulary+1,\n",
        "                                              embedding_dim,\n",
        "                                              padding_idx=size_vocabulary).to(self.device)\n",
        "    # (ii) a bidirectional LSTM 'self.encoder_lstm' with a hidden size of 'lstm_hidden_size' and 'lstm_layers' layers (use batch_first=True);\n",
        "    self.encoder_lstm = torch.nn.LSTM(embedding_dim,\n",
        "                                      lstm_hidden_size,\n",
        "                                      lstm_layers,\n",
        "                                      batch_first=True,\n",
        "                                      bidirectional=True).to(self.device)\n",
        "    # (iii) a unidirectional LSTM 'self.decoder_lstm' with a hidden size of 'lstm_hidden_size' and 'lstm_layers' layers (use batch_first=True);\n",
        "    self.decoder_lstm = torch.nn.LSTM(embedding_dim,\n",
        "                                      lstm_hidden_size,\n",
        "                                      lstm_layers,\n",
        "                                      batch_first=True,\n",
        "                                      bidirectional=False).to(self.device)\n",
        "    # (iv) a network 'self.decoder_initialiser' meant to turn the final hidden and cell states of the encoder into the initial hidden and cell states of the decoder;\n",
        "    self.decoder_initialiser = torch.nn.Linear(lstm_hidden_size*2, lstm_hidden_size).to(self.device)\n",
        "    # (v) a network 'self.distribution_nn' meant to turn the hidden state of the decoder at each step into the logits of a probability distribution over the vocabulary. The logits of a probability distribution are simply the log-probabilities (you might want to use torch.nn.LogSoftmax).\n",
        "    self.distribution_nn = torch.nn.Linear(lstm_hidden_size, size_vocabulary).to(self.device)\n",
        "    #################\n",
        "\n",
        "  # This function encodes the input paragraphs and turns them into initial states for the decoder. It is used both at training and prediction time.\n",
        "  # 'in_paragraphs' is a matrix (batch size, max in length) of character ids (Integer).\n",
        "  # You might want to understand what is the output of PyTorch's LSTMs: https://pytorch.org/docs/stable/generated/torch.nn.LSTM.html\n",
        "  def initStates(self, in_paragraphs):\n",
        "    batch_size = in_paragraphs.size(0)\n",
        "\n",
        "    in_char_embeddings = self.char_embeddings(in_paragraphs) # Shape: (batch_size, max length, embedding size)\n",
        "    #print(in_char_embeddings); print(in_char_embeddings.shape)\n",
        "    in_lengths = (in_paragraphs != self.char_embeddings.padding_idx).sum(axis=1) # Shape: (batch_size)\n",
        "    #print(in_lengths); print(in_lengths.shape)\n",
        "    in_char_embeddings = torch.nn.utils.rnn.pack_padded_sequence(input=in_char_embeddings, lengths=in_lengths.cpu(), batch_first=True, enforce_sorted=False) # Enables the biLSTM to ignore padding elements.\n",
        "\n",
        "    # The input paragraphs are encoded; the final hidden and cell states of the network will be used to initialise the decoder after a little transformation.\n",
        "    _, (h_n, c_n) = self.encoder_lstm(in_char_embeddings) # 'h_n' and 'c_n' are both of shape (num_layers * 2, batch_size, hidden_size)\n",
        "\n",
        "    # Concatenates the left-to-right and right-to-left final hidden states of the biLSTM.\n",
        "    h_n = h_n.view(self.encoder_lstm.num_layers, 2, batch_size, self.encoder_lstm.hidden_size) # The second dimension (of size 2) of this tensor corresponds to left-to-right (0) and right-to-left (1).\n",
        "    #print(h_n); print(h_n.shape)\n",
        "    lr_h_n = h_n[:,0] # left-to-right; shape: (num_layers, batch_size, hidden_size)\n",
        "    rl_h_n = h_n[:,1] # right-to-left; shape: (num_layers, batch_size, hidden_size)\n",
        "    bi_h_n = torch.cat([lr_h_n, rl_h_n], axis=2) # Shape: (num_layers, batch_size, (2 * hidden_size))\n",
        "    #print(bi_h_n); print(bi_h_n.shape)\n",
        "\n",
        "    # Concatenates the left-to-right and right-to-left final cell states of the biLSTM.\n",
        "    c_n = c_n.view(self.encoder_lstm.num_layers, 2, batch_size, self.encoder_lstm.hidden_size) # The second dimension (of size 2) of this tensor corresponds to left-to-right (0) and right-to-left (1).\n",
        "    #print(c_n); print(c_n.shape)\n",
        "    lr_c_n = c_n[:,0] # left-to-right; shape: (num_layers, batch_size, hidden_size)\n",
        "    rl_c_n = c_n[:,1] # right-to-left; shape: (num_layers, batch_size, hidden_size)\n",
        "    bi_c_n = torch.cat([lr_c_n, rl_c_n], axis=2) # Shape: (num_layers, batch_size, (2 * hidden_size))\n",
        "    #print(bi_c_n); print(bi_c_n.shape)\n",
        "\n",
        "    # What should be the shape of the two tensors of the following pair?\n",
        "    # Answer: num_layers, batch_size, lstm_hidden_size\n",
        "    return (self.decoder_initialiser(bi_h_n), self.decoder_initialiser(bi_c_n))\n",
        "\n",
        "  # Training time: This function outputs the logits for each time step.\n",
        "  # Because at training time, the output paragraph is known, there is no need to generate anything sequentially — all positions can be processed at the same time. In fact, there is a loop hidden in the call to the decoder LSTM, but you should not write any explicit loop here.\n",
        "  # Do not forget the distribution for the first character.\n",
        "  # 'in_paragraphs' is a matrix (batch size, max in length) of character ids (Integer).\n",
        "  # 'out_paragraphs' is a matrix (batch size, max out length) of character ids (Integer) at training time. Assume it does not include the final end-of-paragraph character.\n",
        "  # You might want to understand what is the output of PyTorch's LSTMs: https://pytorch.org/docs/stable/generated/torch.nn.LSTM.html\n",
        "  def trainingLogits(self, in_paragraphs, out_paragraphs):\n",
        "    decoder_init_states= self.initStates(in_paragraphs) # These tensors are not only used to initialise the decoder but also (for the first tensor) to compute the probability distributions for the first character.\n",
        "\n",
        "    # Feed a packed sequence to the decoder (use 'torch.nn.utils.rnn.pack_padded_sequence' and 'torch.nn.utils.rnn.pad_packed_sequence').\n",
        "    # You don't need to implement a loop, because at training time, you know in advance the decisions of the system (i.e. the tokens that are generated).\n",
        "    #################\n",
        "    out_char_embeddings = self.char_embeddings(out_paragraphs) # Shape: batch_size, max_out_length, embedding_dim\n",
        "    out_lengths = (out_paragraphs != self.char_embeddings.padding_idx).sum(axis=1) # Shape: batch_size\n",
        "    out_char_embeddings = torch.nn.utils.rnn.pack_padded_sequence(input=out_char_embeddings, lengths=out_lengths.cpu(), batch_first=True, enforce_sorted=False) # Enables the biLSTM to ignore padding elements.\n",
        "    output, (_, _) = self.decoder_lstm(out_char_embeddings, decoder_init_states)\n",
        "    # convert the packed sequence back to tensor : batch_size, max_out_length, embedding_dim\n",
        "    output, _ = torch.nn.utils.rnn.pad_packed_sequence(output,batch_first=True,padding_value = self.char_embeddings.padding_idx)\n",
        "    # extract the last layer state\n",
        "    h_last_layer = decoder_init_states[0][-1,:,:] # Shape : batch_size, hidden_size\n",
        "    # first distribution\n",
        "    first_logits = self.distribution_nn(h_last_layer).unsqueeze(1) # Shape: batch_size, 1, size_vocabulary\n",
        "    # subsequent distributions\n",
        "    rest_logits = self.distribution_nn(output) # Shape: batch_size, max_out_length, size_vocabulary\n",
        "    logits = torch.cat([first_logits, rest_logits], dim=1) # Shape: batch_size, max_out_length + 1, size_vocabulary\n",
        "    return logits\n",
        "    #################\n",
        "    #################\n",
        "\n",
        "  # Prediction time: This function generates a text up to 'max_predicted_char' character long for each paragraph in the batch.\n",
        "  # 'in_paragraphs' is a matrix (batch size, max in length) of character ids (Integer).\n",
        "  # You might want to understand what is the output of PyTorch's LSTMs: https://pytorch.org/docs/stable/generated/torch.nn.LSTM.html\n",
        "  def predictionStrings(self, in_paragraphs, max_predicted_char=1000):\n",
        "    batch_size = in_paragraphs.size(0)\n",
        "\n",
        "    decoder_init_states = self.initStates(in_paragraphs)\n",
        "    # These tensors are not only used to initialise the decoder but also (for the first tensor) to compute the probability distributions for the first character.\n",
        "    # Decode 'decoder_init_states' into a matrix a character ids (on line per input paragraph in the batch) and then convert it to strings of actual characters.\n",
        "    # You will need to implement a loop at some point.\n",
        "    # To work with probability distributions, you may use \"torch.distributions.Categorical\", but not necessarily.\n",
        "    #################\n",
        "\n",
        "    # initialize a tensor to track the completion of each paragraph\n",
        "    completion = torch.zeros(batch_size, dtype=torch.bool).to(self.device)\n",
        "    # extract the last layer to compute the distribution\n",
        "    h_last_layer = decoder_init_states[0][-1,:,:] # Shape : batch_size, hidden_size\n",
        "    # categorical distribution\n",
        "    first_distribution = torch.distributions.categorical.Categorical(logits=self.distribution_nn(h_last_layer)) # Shape : batch_size\n",
        "    # sample from the distribution : one token for each paragraph\n",
        "    para = first_distribution.sample() # Shape : batch_size\n",
        "    para = para.unsqueeze(1).to(self.device) # Shape : batch_size, 1\n",
        "\n",
        "    for i in range(max_predicted_char):\n",
        "        out_char_embeddings = self.char_embeddings(para) # Shape : batch_size, para_length, embedding_dim\n",
        "        output, (_, _) = self.decoder_lstm(out_char_embeddings, decoder_init_states) # Shape : batch_size, para_length, hidden_size\n",
        "        output = output[:,-1,:] # Shape : batch_size, hidden_size\n",
        "        # get the distribution\n",
        "        char_distribution = self.distribution_nn(output) # Shape : batch_size, size_vocabulary\n",
        "        # sample from the distribution\n",
        "        next_distribution = torch.distributions.categorical.Categorical(logits=char_distribution) # Shape : batch_size\n",
        "        next_char = next_distribution.sample() # Shape : batch_size\n",
        "        next_char = next_char.unsqueeze(1).to(self.device) # Shape : batch_size, 1\n",
        "        para = torch.cat([para, next_char], dim=1) # Shape : batch_size, para_length\n",
        "        # update the finished tensor based on whether the EOP token was generated\n",
        "        completion = completion | (next_char == self.EOP_id)\n",
        "        # break if all paragraphs are completed\n",
        "        if completion.all():\n",
        "            break\n",
        "    texts = ids_to_texts(para, id_to_char, self.EOP_id)\n",
        "    #################\n",
        "\n",
        "    return texts # List[str]"
      ],
      "execution_count": null,
      "outputs": []
    },
    {
      "cell_type": "code",
      "metadata": {
        "id": "n5TXsvizgogZ"
      },
      "source": [
        "model = Model(size_vocabulary=len(char_vocabulary), EOP_id=EOP_id, embedding_dim=19, lstm_hidden_size=13, lstm_layers=7, device='cuda')"
      ],
      "execution_count": null,
      "outputs": []
    },
    {
      "cell_type": "code",
      "metadata": {
        "id": "T4sp6c9Bdch3",
        "colab": {
          "base_uri": "https://localhost:8080/"
        },
        "outputId": "89439679-f762-4c84-bb2e-060a44ca1418"
      },
      "source": [
        "# Tests the training method.\n",
        "in_paragraphs = torch.tensor([(list(range(5)) + ([batch_generator.padding_idx] * 0))]).to(model.device) # A batch that contains only one sentence with no padding.\n",
        "print(in_paragraphs)\n",
        "out_paragraphs = in_paragraphs\n",
        "model.trainingLogits(in_paragraphs, out_paragraphs)"
      ],
      "execution_count": null,
      "outputs": [
        {
          "output_type": "stream",
          "name": "stdout",
          "text": [
            "tensor([[0, 1, 2, 3, 4]], device='cuda:0')\n"
          ]
        },
        {
          "output_type": "execute_result",
          "data": {
            "text/plain": [
              "tensor([[[ 0.0062, -0.1736,  0.3709,  0.0665,  0.3652, -0.0216,  0.2232,\n",
              "          -0.0316,  0.2813, -0.0608,  0.2681, -0.0355, -0.1601, -0.1729,\n",
              "          -0.0309,  0.0349,  0.1421, -0.0730, -0.3568,  0.1837,  0.1355,\n",
              "          -0.1148, -0.1713, -0.1193,  0.0186,  0.2686, -0.0440,  0.0659,\n",
              "           0.0040,  0.2603,  0.0665, -0.0143, -0.1054,  0.1333, -0.1814,\n",
              "          -0.2553,  0.2114, -0.2229,  0.2745,  0.0726,  0.1376,  0.0249,\n",
              "           0.3151, -0.3095, -0.1754,  0.1732,  0.1284,  0.1697, -0.2196,\n",
              "           0.0532, -0.2121, -0.1076, -0.0172,  0.2848,  0.1713,  0.0421,\n",
              "           0.1313,  0.1889,  0.2074,  0.0910,  0.0228,  0.0099,  0.1980,\n",
              "          -0.0906, -0.2130,  0.0235, -0.2075, -0.1679,  0.1292, -0.1403,\n",
              "           0.1332,  0.1549,  0.1772, -0.0923, -0.2759, -0.1949, -0.1977,\n",
              "           0.1400, -0.1855, -0.2399,  0.1065,  0.1870, -0.1909,  0.0024,\n",
              "           0.2278, -0.2195,  0.1655,  0.0298, -0.0525,  0.1698, -0.2406,\n",
              "           0.0142, -0.1704,  0.1886,  0.1522, -0.1872, -0.1638, -0.1017],\n",
              "         [ 0.0843, -0.1071,  0.2488, -0.0096,  0.3120, -0.0830,  0.2367,\n",
              "          -0.0322,  0.2267, -0.0062,  0.2150,  0.0078, -0.2302, -0.1839,\n",
              "          -0.0233, -0.0871,  0.0704, -0.1280, -0.2164,  0.0551,  0.2107,\n",
              "          -0.1781, -0.1803, -0.0924,  0.0398,  0.2700, -0.0629,  0.0693,\n",
              "          -0.0024,  0.2471, -0.0021,  0.0350, -0.1883,  0.0800, -0.2143,\n",
              "          -0.2076,  0.0928, -0.3130,  0.2794,  0.0902,  0.2309,  0.0249,\n",
              "           0.2521, -0.2383, -0.1667,  0.1567,  0.1119,  0.1112, -0.2252,\n",
              "           0.0940, -0.1485, -0.1760,  0.0330,  0.1753,  0.0498,  0.0523,\n",
              "           0.1212,  0.1426,  0.1837,  0.1465, -0.0300,  0.0027,  0.1047,\n",
              "          -0.1146, -0.2613,  0.0453, -0.1876, -0.1353,  0.1544, -0.1710,\n",
              "           0.1139,  0.0822,  0.0982, -0.1502, -0.2447, -0.2185, -0.1728,\n",
              "           0.2081, -0.2838, -0.2146,  0.0665,  0.1561, -0.2330,  0.0464,\n",
              "           0.2088, -0.2253,  0.1678,  0.0599, -0.0713,  0.1527, -0.2883,\n",
              "          -0.1150, -0.1072,  0.1908,  0.0259, -0.0957, -0.0325, -0.0233],\n",
              "         [ 0.1233, -0.0713,  0.2311, -0.0226,  0.2979, -0.1302,  0.2214,\n",
              "          -0.0259,  0.2131,  0.0398,  0.2006,  0.0109, -0.2591, -0.1835,\n",
              "          -0.0303, -0.1241,  0.0604, -0.1396, -0.1609, -0.0007,  0.2160,\n",
              "          -0.1877, -0.1972, -0.1048,  0.0442,  0.2939, -0.0640,  0.0541,\n",
              "           0.0046,  0.2419, -0.0180,  0.0503, -0.2089,  0.0752, -0.2326,\n",
              "          -0.2082,  0.0592, -0.3487,  0.2898,  0.0973,  0.2719,  0.0189,\n",
              "           0.2301, -0.2164, -0.1773,  0.1467,  0.0951,  0.0821, -0.2213,\n",
              "           0.0906, -0.1309, -0.1970,  0.0619,  0.1401, -0.0057,  0.0427,\n",
              "           0.1056,  0.1428,  0.1880,  0.1698, -0.0477, -0.0051,  0.0637,\n",
              "          -0.1287, -0.2828,  0.0407, -0.1736, -0.1118,  0.1722, -0.1966,\n",
              "           0.0896,  0.0620,  0.0671, -0.1598, -0.2322, -0.2124, -0.1668,\n",
              "           0.2239, -0.3047, -0.2060,  0.0486,  0.1205, -0.2443,  0.0577,\n",
              "           0.2177, -0.2454,  0.1606,  0.0614, -0.0831,  0.1434, -0.2951,\n",
              "          -0.1252, -0.0838,  0.2079,  0.0037, -0.0741,  0.0034, -0.0089],\n",
              "         [ 0.1384, -0.0502,  0.2259, -0.0235,  0.2858, -0.1600,  0.2074,\n",
              "          -0.0211,  0.2112,  0.0714,  0.1925,  0.0137, -0.2750, -0.1759,\n",
              "          -0.0404, -0.1349,  0.0623, -0.1440, -0.1342, -0.0242,  0.2108,\n",
              "          -0.1868, -0.2185, -0.1122,  0.0486,  0.3141, -0.0706,  0.0405,\n",
              "           0.0146,  0.2445, -0.0247,  0.0572, -0.2164,  0.0782, -0.2360,\n",
              "          -0.2139,  0.0423, -0.3679,  0.2994,  0.1042,  0.2898,  0.0137,\n",
              "           0.2170, -0.2026, -0.1804,  0.1446,  0.0803,  0.0756, -0.2164,\n",
              "           0.0913, -0.1188, -0.2068,  0.0799,  0.1180, -0.0335,  0.0384,\n",
              "           0.0928,  0.1556,  0.1937,  0.1766, -0.0471, -0.0103,  0.0415,\n",
              "          -0.1384, -0.2941,  0.0378, -0.1671, -0.1007,  0.1864, -0.2162,\n",
              "           0.0783,  0.0520,  0.0507, -0.1552, -0.2262, -0.2005, -0.1672,\n",
              "           0.2310, -0.3119, -0.1969,  0.0412,  0.0929, -0.2461,  0.0614,\n",
              "           0.2302, -0.2586,  0.1561,  0.0581, -0.0834,  0.1448, -0.2910,\n",
              "          -0.1228, -0.0736,  0.2233, -0.0132, -0.0642,  0.0227, -0.0057],\n",
              "         [ 0.1449, -0.0404,  0.2263, -0.0205,  0.2782, -0.1778,  0.1975,\n",
              "          -0.0188,  0.2136,  0.0913,  0.1889,  0.0173, -0.2844, -0.1700,\n",
              "          -0.0491, -0.1362,  0.0663, -0.1452, -0.1228, -0.0330,  0.2045,\n",
              "          -0.1843, -0.2361, -0.1163,  0.0504,  0.3295, -0.0755,  0.0312,\n",
              "           0.0231,  0.2482, -0.0276,  0.0582, -0.2198,  0.0829, -0.2362,\n",
              "          -0.2188,  0.0341, -0.3778,  0.3069,  0.1092,  0.2980,  0.0102,\n",
              "           0.2101, -0.1944, -0.1815,  0.1444,  0.0701,  0.0756, -0.2124,\n",
              "           0.0929, -0.1112, -0.2096,  0.0897,  0.1051, -0.0467,  0.0365,\n",
              "           0.0848,  0.1674,  0.1996,  0.1790, -0.0433, -0.0140,  0.0298,\n",
              "          -0.1434, -0.2997,  0.0353, -0.1655, -0.0943,  0.1946, -0.2279,\n",
              "           0.0728,  0.0483,  0.0429, -0.1486, -0.2224, -0.1914, -0.1698,\n",
              "           0.2340, -0.3133, -0.1900,  0.0377,  0.0741, -0.2459,  0.0624,\n",
              "           0.2391, -0.2658,  0.1538,  0.0545, -0.0821,  0.1473, -0.2859,\n",
              "          -0.1189, -0.0685,  0.2349, -0.0224, -0.0595,  0.0323, -0.0066],\n",
              "         [ 0.1479, -0.0367,  0.2286, -0.0169,  0.2739, -0.1880,  0.1911,\n",
              "          -0.0182,  0.2168,  0.1029,  0.1878,  0.0207, -0.2901, -0.1665,\n",
              "          -0.0553, -0.1347,  0.0697, -0.1451, -0.1186, -0.0355,  0.1995,\n",
              "          -0.1822, -0.2483, -0.1186,  0.0506,  0.3401, -0.0782,  0.0254,\n",
              "           0.0292,  0.2512, -0.0288,  0.0567, -0.2218,  0.0871, -0.2362,\n",
              "          -0.2221,  0.0305, -0.3829,  0.3121,  0.1124,  0.3019,  0.0079,\n",
              "           0.2068, -0.1899, -0.1820,  0.1445,  0.0637,  0.0769, -0.2096,\n",
              "           0.0942, -0.1065, -0.2093,  0.0948,  0.0980, -0.0525,  0.0357,\n",
              "           0.0802,  0.1758,  0.2044,  0.1801, -0.0401, -0.0166,  0.0237,\n",
              "          -0.1456, -0.3021,  0.0333, -0.1660, -0.0900,  0.1985, -0.2342,\n",
              "           0.0700,  0.0477,  0.0397, -0.1432, -0.2200, -0.1857, -0.1726,\n",
              "           0.2352, -0.3126, -0.1857,  0.0359,  0.0621, -0.2454,  0.0627,\n",
              "           0.2445, -0.2693,  0.1527,  0.0515, -0.0812,  0.1491, -0.2822,\n",
              "          -0.1156, -0.0659,  0.2426, -0.0264, -0.0572,  0.0366, -0.0086]]],\n",
              "       device='cuda:0', grad_fn=<CatBackward0>)"
            ]
          },
          "metadata": {},
          "execution_count": 61
        }
      ]
    },
    {
      "cell_type": "code",
      "source": [
        "# Tests the training method (again).\n",
        "in_paragraphs = torch.tensor([(list(range(5)) + ([batch_generator.padding_idx] * 10)), (list(range(10)) + ([batch_generator.padding_idx] * 5))]).to(model.device) # A batch that contains two sentences with some padding (more than necessary).\n",
        "print(in_paragraphs)\n",
        "out_paragraphs = in_paragraphs\n",
        "model.trainingLogits(in_paragraphs, out_paragraphs)"
      ],
      "metadata": {
        "id": "ftAttD70si-O",
        "colab": {
          "base_uri": "https://localhost:8080/"
        },
        "outputId": "b824155c-6dab-4ce3-82be-64a2634ac36c"
      },
      "execution_count": null,
      "outputs": [
        {
          "output_type": "stream",
          "name": "stdout",
          "text": [
            "tensor([[ 0,  1,  2,  3,  4, 98, 98, 98, 98, 98, 98, 98, 98, 98, 98],\n",
            "        [ 0,  1,  2,  3,  4,  5,  6,  7,  8,  9, 98, 98, 98, 98, 98]],\n",
            "       device='cuda:0')\n"
          ]
        },
        {
          "output_type": "execute_result",
          "data": {
            "text/plain": [
              "tensor([[[ 6.2191e-03, -1.7360e-01,  3.7087e-01,  ..., -1.8723e-01,\n",
              "          -1.6383e-01, -1.0168e-01],\n",
              "         [ 8.4258e-02, -1.0713e-01,  2.4884e-01,  ..., -9.5727e-02,\n",
              "          -3.2543e-02, -2.3279e-02],\n",
              "         [ 1.2327e-01, -7.1296e-02,  2.3108e-01,  ..., -7.4062e-02,\n",
              "           3.4476e-03, -8.9076e-03],\n",
              "         ...,\n",
              "         [-7.3835e+01, -1.0369e+02,  2.8624e+01,  ...,  2.6711e+01,\n",
              "          -1.9651e+01, -2.3498e+01],\n",
              "         [-7.3835e+01, -1.0369e+02,  2.8624e+01,  ...,  2.6711e+01,\n",
              "          -1.9651e+01, -2.3498e+01],\n",
              "         [-7.3835e+01, -1.0369e+02,  2.8624e+01,  ...,  2.6711e+01,\n",
              "          -1.9651e+01, -2.3498e+01]],\n",
              "\n",
              "        [[ 2.0818e-03, -1.7779e-01,  3.7205e-01,  ..., -1.9180e-01,\n",
              "          -1.6484e-01, -1.0436e-01],\n",
              "         [ 8.1530e-02, -1.1054e-01,  2.4892e-01,  ..., -9.7331e-02,\n",
              "          -3.4315e-02, -2.4131e-02],\n",
              "         [ 1.2193e-01, -7.3131e-02,  2.3097e-01,  ..., -7.4778e-02,\n",
              "           2.1160e-03, -9.0678e-03],\n",
              "         ...,\n",
              "         [ 1.5090e-01, -3.6090e-02,  2.3508e-01,  ..., -5.5646e-02,\n",
              "           3.8868e-02, -1.3378e-02],\n",
              "         [ 1.5128e-01, -3.6390e-02,  2.3630e-01,  ..., -5.5674e-02,\n",
              "           3.8751e-02, -1.4253e-02],\n",
              "         [ 1.5150e-01, -3.6591e-02,  2.3709e-01,  ..., -5.5738e-02,\n",
              "           3.8618e-02, -1.4836e-02]]], device='cuda:0', grad_fn=<CatBackward0>)"
            ]
          },
          "metadata": {},
          "execution_count": 62
        }
      ]
    },
    {
      "cell_type": "code",
      "metadata": {
        "id": "hRPGm_Duq_QY",
        "colab": {
          "base_uri": "https://localhost:8080/"
        },
        "outputId": "423b591f-33f8-4822-e401-691a2d761bd5"
      },
      "source": [
        "# Tests the prediction methods.\n",
        "batch = batch_generator.get_batch(2)\n",
        "model.predictionStrings(batch[0].to(model.device), max_predicted_char=16)"
      ],
      "execution_count": null,
      "outputs": [
        {
          "output_type": "execute_result",
          "data": {
            "text/plain": [
              "['jJëMp_)(cÉ(Éh4LdP', 'Yûë2Oecy9èX']"
            ]
          },
          "metadata": {},
          "execution_count": 63
        }
      ]
    },
    {
      "cell_type": "markdown",
      "metadata": {
        "id": "80KIRPPyOCWQ"
      },
      "source": [
        "Training\n",
        "=="
      ]
    },
    {
      "cell_type": "code",
      "source": [
        "!pip install evaluate"
      ],
      "metadata": {
        "colab": {
          "base_uri": "https://localhost:8080/"
        },
        "id": "guv711xI3C9O",
        "outputId": "6b6aec94-7c43-4006-fb98-62658e1feec9"
      },
      "execution_count": null,
      "outputs": [
        {
          "output_type": "stream",
          "name": "stdout",
          "text": [
            "Collecting evaluate\n",
            "  Downloading evaluate-0.4.1-py3-none-any.whl (84 kB)\n",
            "\u001b[2K     \u001b[90m━━━━━━━━━━━━━━━━━━━━━━━━━━━━━━━━━━━━━━━━\u001b[0m \u001b[32m84.1/84.1 kB\u001b[0m \u001b[31m1.1 MB/s\u001b[0m eta \u001b[36m0:00:00\u001b[0m\n",
            "\u001b[?25hCollecting datasets>=2.0.0 (from evaluate)\n",
            "  Downloading datasets-2.15.0-py3-none-any.whl (521 kB)\n",
            "\u001b[2K     \u001b[90m━━━━━━━━━━━━━━━━━━━━━━━━━━━━━━━━━━━━━━━━\u001b[0m \u001b[32m521.2/521.2 kB\u001b[0m \u001b[31m5.9 MB/s\u001b[0m eta \u001b[36m0:00:00\u001b[0m\n",
            "\u001b[?25hRequirement already satisfied: numpy>=1.17 in /usr/local/lib/python3.10/dist-packages (from evaluate) (1.23.5)\n",
            "Collecting dill (from evaluate)\n",
            "  Downloading dill-0.3.7-py3-none-any.whl (115 kB)\n",
            "\u001b[2K     \u001b[90m━━━━━━━━━━━━━━━━━━━━━━━━━━━━━━━━━━━━━━━━\u001b[0m \u001b[32m115.3/115.3 kB\u001b[0m \u001b[31m15.2 MB/s\u001b[0m eta \u001b[36m0:00:00\u001b[0m\n",
            "\u001b[?25hRequirement already satisfied: pandas in /usr/local/lib/python3.10/dist-packages (from evaluate) (1.5.3)\n",
            "Requirement already satisfied: requests>=2.19.0 in /usr/local/lib/python3.10/dist-packages (from evaluate) (2.31.0)\n",
            "Requirement already satisfied: tqdm>=4.62.1 in /usr/local/lib/python3.10/dist-packages (from evaluate) (4.66.1)\n",
            "Requirement already satisfied: xxhash in /usr/local/lib/python3.10/dist-packages (from evaluate) (3.4.1)\n",
            "Collecting multiprocess (from evaluate)\n",
            "  Downloading multiprocess-0.70.15-py310-none-any.whl (134 kB)\n",
            "\u001b[2K     \u001b[90m━━━━━━━━━━━━━━━━━━━━━━━━━━━━━━━━━━━━━━━━\u001b[0m \u001b[32m134.8/134.8 kB\u001b[0m \u001b[31m18.7 MB/s\u001b[0m eta \u001b[36m0:00:00\u001b[0m\n",
            "\u001b[?25hRequirement already satisfied: fsspec[http]>=2021.05.0 in /usr/local/lib/python3.10/dist-packages (from evaluate) (2023.6.0)\n",
            "Requirement already satisfied: huggingface-hub>=0.7.0 in /usr/local/lib/python3.10/dist-packages (from evaluate) (0.19.4)\n",
            "Requirement already satisfied: packaging in /usr/local/lib/python3.10/dist-packages (from evaluate) (23.2)\n",
            "Collecting responses<0.19 (from evaluate)\n",
            "  Downloading responses-0.18.0-py3-none-any.whl (38 kB)\n",
            "Requirement already satisfied: pyarrow>=8.0.0 in /usr/local/lib/python3.10/dist-packages (from datasets>=2.0.0->evaluate) (9.0.0)\n",
            "Collecting pyarrow-hotfix (from datasets>=2.0.0->evaluate)\n",
            "  Downloading pyarrow_hotfix-0.6-py3-none-any.whl (7.9 kB)\n",
            "Requirement already satisfied: aiohttp in /usr/local/lib/python3.10/dist-packages (from datasets>=2.0.0->evaluate) (3.9.1)\n",
            "Requirement already satisfied: pyyaml>=5.1 in /usr/local/lib/python3.10/dist-packages (from datasets>=2.0.0->evaluate) (6.0.1)\n",
            "Requirement already satisfied: filelock in /usr/local/lib/python3.10/dist-packages (from huggingface-hub>=0.7.0->evaluate) (3.13.1)\n",
            "Requirement already satisfied: typing-extensions>=3.7.4.3 in /usr/local/lib/python3.10/dist-packages (from huggingface-hub>=0.7.0->evaluate) (4.5.0)\n",
            "Requirement already satisfied: charset-normalizer<4,>=2 in /usr/local/lib/python3.10/dist-packages (from requests>=2.19.0->evaluate) (3.3.2)\n",
            "Requirement already satisfied: idna<4,>=2.5 in /usr/local/lib/python3.10/dist-packages (from requests>=2.19.0->evaluate) (3.6)\n",
            "Requirement already satisfied: urllib3<3,>=1.21.1 in /usr/local/lib/python3.10/dist-packages (from requests>=2.19.0->evaluate) (2.0.7)\n",
            "Requirement already satisfied: certifi>=2017.4.17 in /usr/local/lib/python3.10/dist-packages (from requests>=2.19.0->evaluate) (2023.11.17)\n",
            "Requirement already satisfied: python-dateutil>=2.8.1 in /usr/local/lib/python3.10/dist-packages (from pandas->evaluate) (2.8.2)\n",
            "Requirement already satisfied: pytz>=2020.1 in /usr/local/lib/python3.10/dist-packages (from pandas->evaluate) (2023.3.post1)\n",
            "Requirement already satisfied: attrs>=17.3.0 in /usr/local/lib/python3.10/dist-packages (from aiohttp->datasets>=2.0.0->evaluate) (23.1.0)\n",
            "Requirement already satisfied: multidict<7.0,>=4.5 in /usr/local/lib/python3.10/dist-packages (from aiohttp->datasets>=2.0.0->evaluate) (6.0.4)\n",
            "Requirement already satisfied: yarl<2.0,>=1.0 in /usr/local/lib/python3.10/dist-packages (from aiohttp->datasets>=2.0.0->evaluate) (1.9.3)\n",
            "Requirement already satisfied: frozenlist>=1.1.1 in /usr/local/lib/python3.10/dist-packages (from aiohttp->datasets>=2.0.0->evaluate) (1.4.0)\n",
            "Requirement already satisfied: aiosignal>=1.1.2 in /usr/local/lib/python3.10/dist-packages (from aiohttp->datasets>=2.0.0->evaluate) (1.3.1)\n",
            "Requirement already satisfied: async-timeout<5.0,>=4.0 in /usr/local/lib/python3.10/dist-packages (from aiohttp->datasets>=2.0.0->evaluate) (4.0.3)\n",
            "Requirement already satisfied: six>=1.5 in /usr/local/lib/python3.10/dist-packages (from python-dateutil>=2.8.1->pandas->evaluate) (1.16.0)\n",
            "Installing collected packages: pyarrow-hotfix, dill, responses, multiprocess, datasets, evaluate\n",
            "Successfully installed datasets-2.15.0 dill-0.3.7 evaluate-0.4.1 multiprocess-0.70.15 pyarrow-hotfix-0.6 responses-0.18.0\n"
          ]
        }
      ]
    },
    {
      "cell_type": "code",
      "source": [
        "!pip install rouge-score"
      ],
      "metadata": {
        "colab": {
          "base_uri": "https://localhost:8080/"
        },
        "id": "7fjHn_je9WJO",
        "outputId": "24174505-06f1-4847-b03e-dccfc6a5fba4"
      },
      "execution_count": null,
      "outputs": [
        {
          "output_type": "stream",
          "name": "stdout",
          "text": [
            "Collecting rouge-score\n",
            "  Downloading rouge_score-0.1.2.tar.gz (17 kB)\n",
            "  Preparing metadata (setup.py) ... \u001b[?25l\u001b[?25hdone\n",
            "Requirement already satisfied: absl-py in /usr/local/lib/python3.10/dist-packages (from rouge-score) (1.4.0)\n",
            "Requirement already satisfied: nltk in /usr/local/lib/python3.10/dist-packages (from rouge-score) (3.8.1)\n",
            "Requirement already satisfied: numpy in /usr/local/lib/python3.10/dist-packages (from rouge-score) (1.23.5)\n",
            "Requirement already satisfied: six>=1.14.0 in /usr/local/lib/python3.10/dist-packages (from rouge-score) (1.16.0)\n",
            "Requirement already satisfied: click in /usr/local/lib/python3.10/dist-packages (from nltk->rouge-score) (8.1.7)\n",
            "Requirement already satisfied: joblib in /usr/local/lib/python3.10/dist-packages (from nltk->rouge-score) (1.3.2)\n",
            "Requirement already satisfied: regex>=2021.8.3 in /usr/local/lib/python3.10/dist-packages (from nltk->rouge-score) (2023.6.3)\n",
            "Requirement already satisfied: tqdm in /usr/local/lib/python3.10/dist-packages (from nltk->rouge-score) (4.66.1)\n",
            "Building wheels for collected packages: rouge-score\n",
            "  Building wheel for rouge-score (setup.py) ... \u001b[?25l\u001b[?25hdone\n",
            "  Created wheel for rouge-score: filename=rouge_score-0.1.2-py3-none-any.whl size=24933 sha256=ffc4a5b8aee149e299325cde241d0fad303e67460338a3d62e964684643b4131\n",
            "  Stored in directory: /root/.cache/pip/wheels/5f/dd/89/461065a73be61a532ff8599a28e9beef17985c9e9c31e541b4\n",
            "Successfully built rouge-score\n",
            "Installing collected packages: rouge-score\n",
            "Successfully installed rouge-score-0.1.2\n"
          ]
        }
      ]
    },
    {
      "cell_type": "code",
      "source": [
        "import evaluate\n",
        "\n",
        "def validation_function_with_evaluate(model, batch_gen, batch_size, device='cpu'):\n",
        "    model.eval()\n",
        "    epoch_loss = []\n",
        "    rouge = evaluate.load('rouge')  # Load ROUGE metric\n",
        "\n",
        "    all_generated_texts = []\n",
        "    all_reference_texts = []\n",
        "\n",
        "    with torch.no_grad():\n",
        "        for in_paragraphs, out_paragraphs in batch_gen.all_batches(batch_size, split='dev'):\n",
        "            in_paragraphs, out_paragraphs = in_paragraphs.to(device), out_paragraphs.to(device)\n",
        "\n",
        "            # Compute model logits and loss\n",
        "            logits = model.trainingLogits(in_paragraphs, out_paragraphs)\n",
        "            logits = logits[:, :-1, :]  # Remove the last token's scores\n",
        "            log_probs = torch.nn.functional.log_softmax(logits, dim=-1)\n",
        "            num_inputs, seq_length, vocab_size = log_probs.shape # Shape : num_inputs, seq_length, vocab_size\n",
        "            log_probs_flat = log_probs.view(num_inputs * seq_length, vocab_size) # Shape : num_inputs, seq_length, vocab_size\n",
        "            targets_flat = out_paragraphs.view(num_inputs * seq_length)# Shape : num_inputs, seq_length\n",
        "            loss = torch.nn.functional.nll_loss(log_probs_flat, targets_flat, ignore_index=model.char_embeddings.padding_idx, reduction='mean')\n",
        "            epoch_loss.append(loss.item())\n",
        "\n",
        "            # Direct text generation for evaluation\n",
        "            generated_texts = model.predictionStrings(in_paragraphs, max_predicted_char=512)\n",
        "            real_texts = ids_to_texts(out_paragraphs, id_to_char, EOP_id)\n",
        "\n",
        "            all_generated_texts.extend(generated_texts)\n",
        "            all_reference_texts.extend(real_texts)\n",
        "\n",
        "    # Compute ROUGE scores\n",
        "    rouge_scores = rouge.compute(predictions=all_generated_texts, references=all_reference_texts)\n",
        "    avg_loss = sum(epoch_loss) / len(epoch_loss) if epoch_loss else 0\n",
        "\n",
        "    return avg_loss, rouge_scores"
      ],
      "metadata": {
        "id": "Sp39FDaS3Pdo"
      },
      "execution_count": null,
      "outputs": []
    },
    {
      "cell_type": "code",
      "source": [
        "model = Model(size_vocabulary=len(char_vocabulary), EOP_id=EOP_id, embedding_dim=400, lstm_hidden_size=600, lstm_layers=2, device='cuda')"
      ],
      "metadata": {
        "id": "Z_Xhiz8cf1BS"
      },
      "execution_count": null,
      "outputs": []
    },
    {
      "cell_type": "code",
      "metadata": {
        "id": "zdJSBtNGCX-J"
      },
      "source": [
        "# Training loop\n",
        "def training_loop(model, batch_generator, optimizer, batch_size, epoch_size):\n",
        "  import time\n",
        "  model.eval() # Tells Pytorch we are in evaluation/inference mode (can be useful if dropout is used, for instance).\n",
        "\n",
        "  # Training procedure\n",
        "  nb_epoch = 20 if(not use_toy_dataset) else 20\n",
        "  epoch_id = 0 # Id of the current epoch\n",
        "  instances_processed = 0 # Number of instances trained on in the current epoch\n",
        "  epoch_loss = [] # Will contain the loss for each batch of the current epoch\n",
        "  time_0 = time.time()\n",
        "\n",
        "  training_losses = []\n",
        "  validation_losses = []\n",
        "  rouge_L = []\n",
        "\n",
        "  # Early stopping parameters\n",
        "  patience = 5\n",
        "  min_delta = 0.01\n",
        "  best_loss = float('inf')\n",
        "  epochs_no_improve = 0\n",
        "\n",
        "  while epoch_id < nb_epoch:\n",
        "    model.train() # Tells Pytorch we are in training mode (can be useful if dropout is used, for instance).\n",
        "    model.zero_grad() # Makes sure the gradient is reinitialised to zero.\n",
        "\n",
        "    batch = batch_generator.get_batch(batch_size, split='train')\n",
        "    #print(ids_to_texts(batch[0])); print(ids_to_texts(batch[1]))\n",
        "    in_paragraphs = batch[0].to(model.device)\n",
        "    out_paragraphs = batch[1].to(model.device)\n",
        "\n",
        "    # You have to (i) compute the prediction of the model, (ii) compute the loss, (iii) call \"backward\" on the loss and (iv) store the loss in \"epoch_loss\".\n",
        "    # For the loss, use torch.nn.functional.nll_loss. Computes an average over all tokens of the batch, but do not take into account distribution logits that corresonds to padding characters. Read the documentation and be careful about the shape of your tensors.\n",
        "    ###################\n",
        "    # (i) compute the prediction of the model\n",
        "    pred_logits = model.trainingLogits(in_paragraphs, out_paragraphs) # Shape : batch_size, para_length + 1, size_vocabulary\n",
        "    pred_logits = pred_logits[:,:-1,:] # Shape : batch_size, para_length, size_vocabulary\n",
        "    # (ii) compute the loss\n",
        "    # apply the logsoftmax to the last dimension\n",
        "    log_scores = torch.nn.functional.log_softmax(pred_logits, dim=-1) # Shape : batch_size, para_length, size_vocabulary\n",
        "    # Reshape scores and target paragraphs for nll_loss\n",
        "    num_inputs, seq_length, vocab_size = log_scores.shape\n",
        "    log_scores_flat = log_scores.view(num_inputs * seq_length, vocab_size)\n",
        "    targets_flat = out_paragraphs.view(num_inputs * seq_length)\n",
        "    loss = torch.nn.functional.nll_loss(log_scores_flat, targets_flat, ignore_index=model.char_embeddings.padding_idx, reduction='mean')\n",
        "    # (iii) call \"backward\" on the loss\n",
        "    loss.backward()\n",
        "    # (iv) store the loss in \"epoch_loss\"\n",
        "    epoch_loss.append(loss.item())\n",
        "    ###################\n",
        "\n",
        "    optimizer.step() # Updates the parameters.\n",
        "\n",
        "    instances_processed += batch_size\n",
        "    if(instances_processed > epoch_size):\n",
        "      avg_training_loss = sum(epoch_loss) / len(epoch_loss)\n",
        "      training_losses.append(avg_training_loss)\n",
        "\n",
        "    # Validation phase\n",
        "      avg_val_loss, rouge_scores = validation_function_with_evaluate(model, batch_generator, batch_size, device=model.device)\n",
        "      validation_losses.append(avg_val_loss)\n",
        "      rouge_L.append(rouge_scores['rougeL'])\n",
        "\n",
        "      # Early stopping check\n",
        "      if avg_val_loss < best_loss - min_delta:\n",
        "        best_loss = avg_val_loss\n",
        "        epochs_no_improve = 0\n",
        "      else:\n",
        "        epochs_no_improve += 1\n",
        "        if epochs_no_improve >= patience:\n",
        "          print(f\"Early stopping triggered after {epoch_id + 1} epochs.\")\n",
        "          break\n",
        "\n",
        "      duration = time.time() - time_0\n",
        "      print(f\"-- END OF EPOCH {epoch_id}.\")\n",
        "      print(f\"Training loss: {avg_training_loss}.\")\n",
        "      print(f\"Validation Loss: {avg_val_loss}, ROUGE L: {rouge_scores['rougeL']}\")\n",
        "      print(f\"{duration} s elapsed (i.e. {duration / (epoch_id + 1)} s/epoch)\")\n",
        "\n",
        "    # Example of generation\n",
        "      batch = batch_generator.get_batch(1)\n",
        "      print(ids_to_texts(batch[0], id_to_char, EOP_id)) # Input paragraph\n",
        "      print(model.predictionStrings(batch[0].to(model.device), max_predicted_char=512)) # Generated output paragraph.\n",
        "\n",
        "      epoch_id += 1\n",
        "      instances_processed -= epoch_size\n",
        "      epoch_loss = []\n",
        "\n",
        "  return training_losses, validation_losses, rouge_L"
      ],
      "execution_count": null,
      "outputs": []
    },
    {
      "cell_type": "code",
      "source": [
        "#learning_rate = 0.2\n",
        "#momentum = 0.99\n",
        "#l2_reg = 0.0001\n",
        "\n",
        "optimizer = torch.optim.Adam(model.parameters()) # Once the backward propagation has been done, call the 'step' method (with no argument) to update the parameters.\n",
        "batch_size = 64 if(not use_toy_dataset) else 128\n",
        "subset = None # Use an integer to train on a smaller portion of the training set, otherwise use None.\n",
        "epoch_size = len(batch_generator.splits['train']) if(subset is None) else subset\n",
        "\n",
        "training_losses, validation_losses, rouge_L = training_loop(model, batch_generator, optimizer, batch_size, epoch_size)"
      ],
      "metadata": {
        "colab": {
          "base_uri": "https://localhost:8080/"
        },
        "id": "X_c4ySa6i4Lo",
        "outputId": "50573aac-f2f7-4bdc-bc63-be01964f5dbe"
      },
      "execution_count": null,
      "outputs": [
        {
          "output_type": "stream",
          "name": "stdout",
          "text": [
            "-- END OF EPOCH 0.\n",
            "Training loss: 1.35144370588763.\n",
            "Validation Loss: 1.3977745588009174, ROUGE L: 0.05922033784185328\n",
            "180.82270765304565 s elapsed (i.e. 180.82270765304565 s/epoch)\n",
            "['-- Ah! je te plains! dit Emma. Oui, considérablement!...']\n",
            "[\"Et il y arrivait sur quatre dégecu ne dénécramure, continueau de vir de la motité de son bout, comme lui s'était bien broit, et les déposaient toujours.\"]\n",
            "-- END OF EPOCH 1.\n",
            "Training loss: 1.3113658762814706.\n",
            "Validation Loss: 1.3806290443126972, ROUGE L: 0.058769069833068\n",
            "358.94795536994934 s elapsed (i.e. 179.47397768497467 s/epoch)\n",
            "['--Compte dessus! répondit-il. Ça ne peut pas durer! on souffre trop! Quand je vois dans la misère des gens comme Sénécal...']\n",
            "[\"--GAh! s'écicla, c'est que vous....\"]\n",
            "-- END OF EPOCH 2.\n",
            "Training loss: 1.2797984219433969.\n",
            "Validation Loss: 1.364846422122075, ROUGE L: 0.0561665392917719\n",
            "530.5245342254639 s elapsed (i.e. 176.84151140848795 s/epoch)\n",
            "[\"Mais il fit un geste lent des épaules. Bovary l'observa: ils se regardèrent; et cet homme, si habitué pourtant à l'aspect des douleurs, ne put retenir une larme qui tomba sur son jabot.\"]\n",
            "['Il trouva la votre que la doute, Defrande charge pareille que le Poyale, et par ses dames sont.']\n",
            "-- END OF EPOCH 3.\n",
            "Training loss: 1.2566315521273697.\n",
            "Validation Loss: 1.3481400838265052, ROUGE L: 0.06053757482793276\n",
            "704.2281744480133 s elapsed (i.e. 176.05704361200333 s/epoch)\n",
            "['Et ils sortirent.']\n",
            "[\"Il s'arrêtait au cuir nu trives du tête fille, elle que de cjuchette! est obourirer par les obserauser que celle personne, et autour d'hommes, c'était une intelligé soulevoiant de subils. Il représentaiment au montagé de sa prixte lui disait. Challus que les grands lui mâcles de Paris, à la dis de lui mal d'autre chose impor:\"]\n",
            "-- END OF EPOCH 4.\n",
            "Training loss: 1.2266487155044288.\n",
            "Validation Loss: 1.33407238813547, ROUGE L: 0.06009715495240207\n",
            "884.023638010025 s elapsed (i.e. 176.80472760200502 s/epoch)\n",
            "[\"«C'est un sujet qui m'est pénible, tu sais bien.\"]\n",
            "['--Pas disaime!! fix lui dit à pos se flamme humérieux, vagnement!']\n",
            "-- END OF EPOCH 5.\n",
            "Training loss: 1.2072421061365228.\n",
            "Validation Loss: 1.3292734347856963, ROUGE L: 0.05103904230647905\n",
            "1051.2579588890076 s elapsed (i.e. 175.2096598148346 s/epoch)\n",
            "[\"L'apothicaire, à bout d'idées, se mit à écarter doucement les petits rideaux du vitrage.\"]\n",
            "['-- Cles am ne socèrement pas.']\n",
            "-- END OF EPOCH 6.\n",
            "Training loss: 1.1832509940130669.\n",
            "Validation Loss: 1.314668371127202, ROUGE L: 0.05859706709647687\n",
            "1228.264812707901 s elapsed (i.e. 175.46640181541443 s/epoch)\n",
            "[\"-- Mais, reprit Léon. s'adressant à madame Bovary, rien n'est plus agréable, il me semble; quand on le peut, ajouta-t-il.\"]\n",
            "[\"-- Madame Lheureux, d'amours, c'est considérable. Il se dédoilant et là-dessus la tétiphise, dont elle éprouvait une note lumide à l'occas du moline son quit saisse de son paterice grison de la lit; et s'en aller phrasalité. Mamacien, avait a parait dranc démoïreuse, et c'était dans le Couprie à callure, est, tout esprit qui avait pas, de gaille et s'étoine de huit imbéchuré, mont! dans le bras devant quant la clier, elle mangeait. Elle se serait à terres contre le clafre loin, y ajet un sieu? Et l'exassante\"]\n",
            "-- END OF EPOCH 7.\n",
            "Training loss: 1.1631524019074022.\n",
            "Validation Loss: 1.3107732351009662, ROUGE L: 0.057771050651911654\n",
            "1407.163022518158 s elapsed (i.e. 175.89537781476974 s/epoch)\n",
            "[\"-- Vous savez ce qui m'arrive? C'est une plaisanterie sans doute!\"]\n",
            "[\"-- J'en détachait que la glâcier bronde!» lui nous l'aller son bonnet de toile le soir. La trième entré sur des pharmaciens, une petite foig, reprit un gros.\"]\n",
            "-- END OF EPOCH 8.\n",
            "Training loss: 1.1483733110260546.\n",
            "Validation Loss: 1.3040347832899828, ROUGE L: 0.05648926943846978\n",
            "1574.3014981746674 s elapsed (i.e. 174.92238868607416 s/epoch)\n",
            "[\"L'hôtesse prit la défense de son curé:\"]\n",
            "[\"-- D'ailleurs longtassières. Or de notons avec une hamieux; et, la voix, il perchant, et, mois seulement des dépenses que jeçais?».... Enfin, quoi comme les plaisies que l'âme entrouvante, qui m'avaient une perrate, mademande m'en servit: «En Dieu sous des jeunissements..., je consiscassiesses, quelques lèvres, et, dans un ouillette allongeait un jampagne, un homme si adroya Monsier acque d'autre templa, qui aiment nes terres libres! Jusqu'à proposité de toit; mais tous le journal, de regards en marchands n'\"]\n",
            "-- END OF EPOCH 9.\n",
            "Training loss: 1.125333639613369.\n",
            "Validation Loss: 1.2978460513628447, ROUGE L: 0.05679239161482613\n",
            "1752.6082789897919 s elapsed (i.e. 175.2608278989792 s/epoch)\n",
            "['«Vive la Maréchale! vive la Maréchale!»']\n",
            "[\"Alors, de sans mariver, il entamait sespendure, sentier à vent le trop corgre. Qui n'apercept; mons pochette. Il avait madame Lefrançois. Tout en allèrent au castal arrivait à détergent en, ceus elle la règle, angarda envier sa fabrique allait quitterie, n'apercevait pas, à dame! Pellement sa lumure du jardin, que de tenard, il lui sébrit se pacusit basque cette discurette entre les pied_; et il confondait un marchands, par excre.\"]\n",
            "-- END OF EPOCH 10.\n",
            "Training loss: 1.111651194723029.\n",
            "Validation Loss: 1.294271680024954, ROUGE L: 0.05304701844851181\n",
            "1928.7689790725708 s elapsed (i.e. 175.3426344611428 s/epoch)\n",
            "[\"Rosenwald n'abandonna pas le piano. Il continua de jouer, pour lui-même. De temps à autre, un des convives disparaissait. A onze heures, comme les derniers s'en allaient, Arnoux sortit avec Pellerin, sous prétexte de le reconduire. Il était de ces gens qui se disent malades quand ils n'ont pas _fait leur tour_ après dîner.\"]\n",
            "['Mme Arnoux se dévodait.']\n",
            "-- END OF EPOCH 11.\n",
            "Training loss: 1.099205119568005.\n",
            "Validation Loss: 1.2908837978656476, ROUGE L: 0.05717023718237786\n",
            "2107.0052740573883 s elapsed (i.e. 175.5837728381157 s/epoch)\n",
            "['Cette violence rendit au jeune homme tout son aplomb. Sans doute, on pouvait se conduire plus gentiment; cependant, si Arnoux trouvait ces deux toiles...']\n",
            "['«Muamense? Vous! Eh!o!']\n",
            "-- END OF EPOCH 12.\n",
            "Training loss: 1.0751544404448123.\n",
            "Validation Loss: 1.290971407523522, ROUGE L: 0.056367191344894804\n",
            "2283.822518348694 s elapsed (i.e. 175.67865525759183 s/epoch)\n",
            "[\"Toujours lui! lui partout! ou brûlante ou glacée, L'image de l'Arnoux...\"]\n",
            "[\"--Tais-toi! c'étaient! fit à autre», épéter ses doigts avec Arnoux était éfoné.\"]\n",
            "-- END OF EPOCH 13.\n",
            "Training loss: 1.064304688520599.\n",
            "Validation Loss: 1.2871830555108876, ROUGE L: 0.060132275764772945\n",
            "2461.2623171806335 s elapsed (i.e. 175.8044512271881 s/epoch)\n",
            "['Puis, quand il fut sur la porte:']\n",
            "[\"-- Non, pas? reprit-elle, effuche qui ratadame la quai n'y plaignir que les jolies, terrêt, et la clinophère un broidi contre laine, Rodolphe, de la bouche neuf, avec les roigns qu'un homme et nom de vaient-çoi, répondit Mme Calecide., que comme vaie est que de fois, madame Homais que jamaise trovére passe de battes; brape parlante. M. lui donnerait tris jamais au mili de suttronne, prenant la plume que pour les guescendre suspendue, tout au leur; et M. Tout, comme est là! seul heureux de la converure!\"]\n",
            "-- END OF EPOCH 14.\n",
            "Training loss: 1.042493712483791.\n",
            "Validation Loss: 1.288998347062331, ROUGE L: 0.06002948007478497\n",
            "2639.5137042999268 s elapsed (i.e. 175.96758028666179 s/epoch)\n",
            "[\"Et elle pria Frédéric d'aller voir dans la cuisine si M. Arnoux n'y était pas.\"]\n",
            "[\"Un battaient surs son côté d'Emma, pedant, sa posa, pourrant sur la vue, l'Angouer, grosse et s'estamide comment à pays posée par hasard, prensionner ce nous (cunignon.\"]\n",
            "-- END OF EPOCH 15.\n",
            "Training loss: 1.0338289340337117.\n",
            "Validation Loss: 1.2887655588296743, ROUGE L: 0.05569336437687243\n",
            "2813.0565440654755 s elapsed (i.e. 175.81603400409222 s/epoch)\n",
            "[\"À deux heures, elle courut chez Léon, frappa contre sa porte. On n'ouvrit pas. Enfin il parut.\"]\n",
            "['-- Mais à gauche, afin de vous mariée. Pardons beaucoup!']\n",
            "Early stopping triggered after 17 epochs.\n"
          ]
        }
      ]
    },
    {
      "cell_type": "code",
      "source": [
        "import matplotlib.pyplot as plt\n",
        "\n",
        "epochs = range(1, len(training_losses) + 1)\n",
        "\n",
        "plt.figure(figsize=(5, 4))\n",
        "plt.plot(epochs, training_losses, label='Training Loss')\n",
        "plt.plot(epochs, validation_losses, label='Validation Loss')\n",
        "plt.title('Training and Validation Losses Over Epochs')\n",
        "plt.xlabel('Epochs')\n",
        "plt.ylabel('Loss')\n",
        "plt.legend()\n",
        "plt.show()"
      ],
      "metadata": {
        "colab": {
          "base_uri": "https://localhost:8080/",
          "height": 410
        },
        "id": "DfB64q9zGdm0",
        "outputId": "5399adf1-5e69-45e1-ea4d-0c886c97c899"
      },
      "execution_count": null,
      "outputs": [
        {
          "output_type": "display_data",
          "data": {
            "text/plain": [
              "<Figure size 500x400 with 1 Axes>"
            ],
            "image/png": "[encoded data removed]"
          },
          "metadata": {}
        }
      ]
    },
    {
      "cell_type": "code",
      "source": [
        "epochs = range(1, len(rouge_L) + 1)\n",
        "\n",
        "plt.figure(figsize=(5, 4))\n",
        "plt.plot(epochs, rouge_L, label='ROUGE-L Score')\n",
        "plt.title('ROUGE Scores Over Epochs')\n",
        "plt.xlabel('Epochs')\n",
        "plt.ylabel('ROUGE-L Score')\n",
        "plt.legend()\n",
        "plt.show()"
      ],
      "metadata": {
        "colab": {
          "base_uri": "https://localhost:8080/",
          "height": 410
        },
        "id": "QDQgOj3ZKKvq",
        "outputId": "fc2360a1-2b0a-4971-efa7-3bb7701cd811"
      },
      "execution_count": null,
      "outputs": [
        {
          "output_type": "display_data",
          "data": {
            "text/plain": [
              "<Figure size 500x400 with 1 Axes>"
            ],
            "image/png": "[encoded data removed]"
          },
          "metadata": {}
        }
      ]
    },
    {
      "cell_type": "code",
      "metadata": {
        "id": "cxs4UZRAHxx3",
        "colab": {
          "base_uri": "https://localhost:8080/"
        },
        "outputId": "6e9c8b38-bb38-4788-cd1f-9f0f3ce4fca3"
      },
      "source": [
        "if(use_toy_dataset):\n",
        "  prompt = [\"AAAA. Now, please write 3 i.\" + EOP] #[paragraphs[0]]\n",
        "  print(prompt[0])\n",
        "  print(f\"(Is this prompt in the training set? {prompt[0] in paragraphs})\\n\")\n",
        "\n",
        "  for _ in range(10):\n",
        "    batch = batch_generator.turn_into_batch(prompt)\n",
        "    gen_texts = model.predictionStrings(batch.to(model.device), max_predicted_char=128)\n",
        "\n",
        "    print(gen_texts[0])\n",
        "    prompt = [gen_texts[0] + EOP]\n",
        "else:\n",
        "  prompt = [\"Charles Bovary sortit une bonne bouteille de vin et alla chercher des verres pour ses invités.\"] * 10\n",
        "  batch = batch_generator.turn_into_batch(prompt)\n",
        "  gen_texts = model.predictionStrings(batch.to(model.device), max_predicted_char=1024)\n",
        "\n",
        "  print(prompt[0])\n",
        "  print()\n",
        "  for i, gen_text in enumerate(gen_texts):\n",
        "    print(f\"{i}: \", end=\"\")\n",
        "    print(gen_text)"
      ],
      "execution_count": null,
      "outputs": [
        {
          "output_type": "stream",
          "name": "stdout",
          "text": [
            "Charles Bovary sortit une bonne bouteille de vin et alla chercher des verres pour ses invités.\n",
            "\n",
            "0: -- Elle le serait voulure des converseuse, ne taisait-ellement? répondit le menton, pour non pas.\n",
            "1: -- Delleurs est-mudiait-elle dans l'autre, dit, sans doute, quitter le faute py un désir; au soir, tant ce saître ne voya rérité, à peine à monsieur Bovary ne point fantique. C'est comme s'en étangera le cachemire, ne connu saignant de partir saurait l'auparat de le vers des autres aploquaies, un souvenir des mentants qu'ils le voulument ses espagnes. Jusqu'à t'aimer. Est-ce que Deslauriers? N'imais et ce n'est pris bas, vivement!...\n",
            "2: -- Du soleil, là-haut! dit Deslaurises.\n",
            "3: -- Je songes voudai?» reprit Emma.\n",
            "4: -- Oui.\n",
            "5: -- Mais la conjurettait sinnez Arnoux.\n",
            "6: -- Je demeuse à ferme! Je suis l'idre? «et une mouselle! dit Lescendre.\n",
            "7: -- C'est vrai, dit un riège, lui rentra comme une vie et courirandi. Pourquoi donc!\n",
            "8: -- Mais, seulement, dit-il avez un ricature, plus de mompres, où C'était le journal, le se sentant gueux.\n",
            "9: -- C'est riville! et vous y pense? tout étonne? dit sur une grande place de chimi. Les pas; ses imptices exhortais à rentez-vous le taminant intérieur Saint-Jacques et tu bien sous ses brassières; et, que les ruence? c'est perdue, un comptenant, on put rousière à dentelle. Comme ces moisissyés au Journal, le réstache des murs déjà trouble. Quel part, rien ne suis-vêces et mieux-même satelle, des étonn!»\n"
          ]
        }
      ]
    },
    {
      "cell_type": "markdown",
      "source": [
        "If your system does not work as expected, check that you are using a sensible loss function, but also check that your implementation matches the architecture depicted in https://moodle.u-paris.fr/mod/resource/view.php?id=648001.\n",
        "\n",
        "If you cannot get your model to work even on the toy dataset, then there must be a bug somewhere."
      ],
      "metadata": {
        "id": "50HbcnPmXkMT"
      }
    },
    {
      "cell_type": "markdown",
      "metadata": {
        "id": "J2GHjtPr4Mw2"
      },
      "source": [
        "Read the remarks at the beginning of the TP again.\n",
        "\n",
        "Once you are sure that your system is correctly implemented and generates texts that look a little bit like natural language, find ways to improve the system.\n",
        "Here are some ideas (ordered arbitrarily):\n",
        "\n",
        "*   Compute a measure that evaluates the performance of the model.\n",
        "*   Split your dataset into a training and a development section, and use this split in a relevant way.\n",
        "*   Implement beam decoding instead of greedy decoding.\n",
        "*   Use other units of text instead of characters (ex: words, word-pieces).\n",
        "*   Add more data to the dataset.\n",
        "*   Use graphs to visualise the training process and the predictions.\n",
        "\n",
        "Document in a text cell all of the changes that you make to the system and describe their impact (qualitatively **and** quantitatively)."
      ]
    },
    {
      "cell_type": "markdown",
      "source": [
        "**Improvement what i made:**  \n",
        "- Added more data to the dataset.(Gustave Flaubert's *L'ÉDUCATION SENTIMENTALE*)  \n",
        "- Split dataset into a training and a validation section.  \n",
        "- Use ROUGE scores as evaluation metrics.\n",
        "- Inside the training loop:  \n",
        "  - Early stopping check.  \n",
        "  - Use Adam optimizer instead of SGD.\n",
        "  - Hyperparameter search.  \n",
        "- Plot a graph of the training and validation losses."
      ],
      "metadata": {
        "id": "37r7OctrNyWE"
      }
    },
    {
      "cell_type": "markdown",
      "source": [
        "**Limitations:**  \n",
        "From the first graph, we can see that the training loss consistently decreases as the number of epochs increases, which indicates that the model is learning and improving its performance on the training dataset over time.The validation loss decreases alongside the training loss initially but starts to plateau as the epochs increase.  \n",
        "  \n",
        "The second graph displaying the ROUGE-L scores over epochs shows fluctuations in the scores throughout the training process. The variability in ROUGE-L scores suggests that the model's text generation quality is not stable and could benefit from further tuning."
      ],
      "metadata": {
        "id": "EKmckbM5YR4A"
      }
    }
  ]
}