{
 "cells": [
  {
   "attachments": {},
   "cell_type": "markdown",
   "metadata": {},
   "source": [
    "# Apprentissage automatique Devoir partie 1  \n"
   ]
  },
  {
   "attachments": {},
   "cell_type": "markdown",
   "metadata": {},
   "source": [
    "## Scikit-learn et la classification"
   ]
  },
  {
   "attachments": {},
   "cell_type": "markdown",
   "metadata": {},
   "source": [
    "Ce script s'est appuyé principalement sur l'exploration de classifieur `LogisticRegression` qui est utilisé largement beaucoup à traiter la classification des étiquettes binaires. Dans un premier lieu, on a construit le dataset et implémenté le model, dans un second lieu, on a essayé de trouver les paramètres les plus adaptés et évalué la performance de ce modèle parmi les autres. "
   ]
  },
  {
   "attachments": {},
   "cell_type": "markdown",
   "metadata": {},
   "source": [
    "### Download the dataset"
   ]
  },
  {
   "cell_type": "code",
   "execution_count": 1,
   "metadata": {},
   "outputs": [
    {
     "data": {
      "text/plain": [
       "'c:\\\\LI\\\\apprentissage\\\\projets_appre_he_huang\\\\projets_appre_he_huang\\\\projets_appre_he_huang\\\\imdb'"
      ]
     },
     "execution_count": 1,
     "metadata": {},
     "output_type": "execute_result"
    }
   ],
   "source": [
    "import os \n",
    "os.getcwd()"
   ]
  },
  {
   "cell_type": "code",
   "execution_count": 2,
   "metadata": {},
   "outputs": [
    {
     "name": "stderr",
     "output_type": "stream",
     "text": [
      "  % Total    % Received % Xferd  Average Speed   Time    Time     Time  Current\n",
      "                                 Dload  Upload   Total   Spent    Left  Speed\n",
      "\n",
      "  0     0    0     0    0     0      0      0 --:--:-- --:--:-- --:--:--     0\n",
      "  0     0    0     0    0     0      0      0 --:--:-- --:--:-- --:--:--     0\n",
      "\n",
      "  0     0    0     0    0     0      0      0 --:--:-- --:--:-- --:--:--     0\n",
      "100  329k  100  329k    0     0   205k      0  0:00:01  0:00:01 --:--:--  321k\n",
      "100  329k  100  329k    0     0   205k      0  0:00:01  0:00:01 --:--:--  321k\n"
     ]
    }
   ],
   "source": [
    "!curl -o imdb_smol.tar.gz -L https://github.com/LoicGrobol/apprentissage-artificiel/raw/main/slides/06-scikit-learn/data/imdb_smol.tar.gz"
   ]
  },
  {
   "cell_type": "code",
   "execution_count": 3,
   "metadata": {},
   "outputs": [],
   "source": [
    "!tar -xf imdb_smol.tar.gz"
   ]
  },
  {
   "attachments": {},
   "cell_type": "markdown",
   "metadata": {},
   "source": [
    "### Writing a csv file"
   ]
  },
  {
   "cell_type": "code",
   "execution_count": 4,
   "metadata": {},
   "outputs": [],
   "source": [
    "PATH = \".\\\\imdb_smol\""
   ]
  },
  {
   "cell_type": "code",
   "execution_count": 5,
   "metadata": {},
   "outputs": [],
   "source": [
    "import os\n",
    "import re\n",
    "\n",
    "def index_files(PATH):\n",
    "    \"\"\"\n",
    "    :return -> dict {'neg': ['0_3.txt', '100_3.txt', '101_1.txt'...], 'pos': ['0_9.txt', '100_7.txt', '101_8.txt'...]\n",
    "\n",
    "    \"\"\"\n",
    "    filedict = {}\n",
    "    \n",
    "    for root, dir, fs in os.walk(PATH):\n",
    "        for d in dir:\n",
    "            filepath = os.listdir(PATH + \"\\\\\" + d)\n",
    "            filedict[d] = filepath \n",
    "    return filedict "
   ]
  },
  {
   "cell_type": "code",
   "execution_count": 6,
   "metadata": {},
   "outputs": [],
   "source": [
    "def get_corpus(PATH, filedict):\n",
    "\n",
    "    \"\"\"\n",
    "    :return -> liste de corpus [\"OK its not the best film I've ever seen but at the same time...\",...]\n",
    "    \"\"\"\n",
    "    idx = []\n",
    "    content = []\n",
    "\n",
    "    for label, txt in filedict.items():\n",
    "        for t in txt:\n",
    "            with open(PATH + \"\\\\\" + label + \"\\\\\" + t, \"r\", encoding='utf-8') as input:\n",
    "                text = input.read()\n",
    "            content.append(text)\n",
    "            idx.append(label)\n",
    "    return content"
   ]
  },
  {
   "cell_type": "code",
   "execution_count": 7,
   "metadata": {},
   "outputs": [],
   "source": [
    "def file_to_opinion(filedict):\n",
    "\n",
    "    \"\"\"\n",
    "    :return -> dict {'0_3': 'neg',...,'0_9': 'pos'...}\n",
    "    \"\"\"\n",
    "    file_map_opinion = {}\n",
    "\n",
    "    for classe, texte in filedict.items():\n",
    "        for doc in texte: \n",
    "            docid = doc.split(\".\")[0]\n",
    "            file_map_opinion[docid] = classe\n",
    "    return file_map_opinion\n",
    "\n",
    "filedict = index_files(PATH)"
   ]
  },
  {
   "cell_type": "code",
   "execution_count": 8,
   "metadata": {},
   "outputs": [],
   "source": [
    "import csv\n",
    "\n",
    "def make_csv(PATH, file_map_opinion, content):\n",
    "    \"\"\"\n",
    "    :return -> csvfile  \n",
    "    \"\"\"\n",
    "    title = [\"docid\", \"text\", \"label\"]\n",
    "    with open(PATH + \"\\\\\"+ \"csv_file.csv\", \"w\", newline='') as output:\n",
    "        writer = csv.writer(output)\n",
    "        writer.writerow(title)\n",
    "        \n",
    "        for (key,val), txt in zip(file_map_opinion.items(), content):\n",
    "            writer.writerow([key, txt, val])\n",
    "            \n",
    "file_map_opinion = file_to_opinion(filedict)            \n",
    "content = get_corpus(PATH, filedict)\n",
    "make_csv(PATH, file_map_opinion, content)"
   ]
  },
  {
   "attachments": {},
   "cell_type": "markdown",
   "metadata": {},
   "source": [
    "### Read data in dataframe"
   ]
  },
  {
   "cell_type": "code",
   "execution_count": 9,
   "metadata": {},
   "outputs": [
    {
     "data": {
      "text/html": [
       "<div>\n",
       "<style scoped>\n",
       "    .dataframe tbody tr th:only-of-type {\n",
       "        vertical-align: middle;\n",
       "    }\n",
       "\n",
       "    .dataframe tbody tr th {\n",
       "        vertical-align: top;\n",
       "    }\n",
       "\n",
       "    .dataframe thead th {\n",
       "        text-align: right;\n",
       "    }\n",
       "</style>\n",
       "<table border=\"1\" class=\"dataframe\">\n",
       "  <thead>\n",
       "    <tr style=\"text-align: right;\">\n",
       "      <th></th>\n",
       "      <th>docid</th>\n",
       "      <th>text</th>\n",
       "      <th>label</th>\n",
       "    </tr>\n",
       "  </thead>\n",
       "  <tbody>\n",
       "    <tr>\n",
       "      <th>0</th>\n",
       "      <td>0_3</td>\n",
       "      <td>Story of a man who has unnatural feelings for ...</td>\n",
       "      <td>neg</td>\n",
       "    </tr>\n",
       "    <tr>\n",
       "      <th>1</th>\n",
       "      <td>100_3</td>\n",
       "      <td>OK its not the best film I've ever seen but at...</td>\n",
       "      <td>neg</td>\n",
       "    </tr>\n",
       "    <tr>\n",
       "      <th>2</th>\n",
       "      <td>101_1</td>\n",
       "      <td>Amateur, no budget films can be surprisingly g...</td>\n",
       "      <td>neg</td>\n",
       "    </tr>\n",
       "    <tr>\n",
       "      <th>3</th>\n",
       "      <td>102_1</td>\n",
       "      <td>My girlfriend once brought around The Zombie C...</td>\n",
       "      <td>neg</td>\n",
       "    </tr>\n",
       "    <tr>\n",
       "      <th>4</th>\n",
       "      <td>103_1</td>\n",
       "      <td>Without wishing to be a killjoy, Brad Sykes is...</td>\n",
       "      <td>neg</td>\n",
       "    </tr>\n",
       "    <tr>\n",
       "      <th>5</th>\n",
       "      <td>104_3</td>\n",
       "      <td>En route to a small town that lays way off the...</td>\n",
       "      <td>neg</td>\n",
       "    </tr>\n",
       "    <tr>\n",
       "      <th>6</th>\n",
       "      <td>105_2</td>\n",
       "      <td>There's tons of good-looking women in this fli...</td>\n",
       "      <td>neg</td>\n",
       "    </tr>\n",
       "    <tr>\n",
       "      <th>7</th>\n",
       "      <td>106_2</td>\n",
       "      <td>1st watched 8/3/2003 - 2 out of 10(Dir-Brad Sy...</td>\n",
       "      <td>neg</td>\n",
       "    </tr>\n",
       "    <tr>\n",
       "      <th>8</th>\n",
       "      <td>107_2</td>\n",
       "      <td>If the crew behind \"Zombie Chronicles\" ever re...</td>\n",
       "      <td>neg</td>\n",
       "    </tr>\n",
       "    <tr>\n",
       "      <th>9</th>\n",
       "      <td>108_1</td>\n",
       "      <td>Pros: Nothing&lt;br /&gt;&lt;br /&gt;Cons: Everything&lt;br /...</td>\n",
       "      <td>neg</td>\n",
       "    </tr>\n",
       "  </tbody>\n",
       "</table>\n",
       "</div>"
      ],
      "text/plain": [
       "   docid                                               text label\n",
       "0    0_3  Story of a man who has unnatural feelings for ...   neg\n",
       "1  100_3  OK its not the best film I've ever seen but at...   neg\n",
       "2  101_1  Amateur, no budget films can be surprisingly g...   neg\n",
       "3  102_1  My girlfriend once brought around The Zombie C...   neg\n",
       "4  103_1  Without wishing to be a killjoy, Brad Sykes is...   neg\n",
       "5  104_3  En route to a small town that lays way off the...   neg\n",
       "6  105_2  There's tons of good-looking women in this fli...   neg\n",
       "7  106_2  1st watched 8/3/2003 - 2 out of 10(Dir-Brad Sy...   neg\n",
       "8  107_2  If the crew behind \"Zombie Chronicles\" ever re...   neg\n",
       "9  108_1  Pros: Nothing<br /><br />Cons: Everything<br /...   neg"
      ]
     },
     "execution_count": 9,
     "metadata": {},
     "output_type": "execute_result"
    }
   ],
   "source": [
    "import pandas as pd\n",
    "imdb = pd.read_csv(PATH + \"\\\\\" + \"csv_file.csv\")\n",
    "imdb.head(10)"
   ]
  },
  {
   "attachments": {},
   "cell_type": "markdown",
   "metadata": {},
   "source": [
    "#### Find the number and the proportion of negative and positive reviews "
   ]
  },
  {
   "cell_type": "code",
   "execution_count": 10,
   "metadata": {},
   "outputs": [
    {
     "name": "stdout",
     "output_type": "stream",
     "text": [
      "Nombre de positive and négative critique:\n",
      "neg    301\n",
      "pos    301\n",
      "Name: label, dtype: int64\n"
     ]
    }
   ],
   "source": [
    "print(f\"Nombre de positive and négative critique:\\n{imdb.label.value_counts()}\")"
   ]
  },
  {
   "cell_type": "code",
   "execution_count": 11,
   "metadata": {},
   "outputs": [
    {
     "name": "stdout",
     "output_type": "stream",
     "text": [
      "Proportion de positive et negative critique:\n",
      "neg    0.5\n",
      "pos    0.5\n",
      "Name: label, dtype: float64\n"
     ]
    }
   ],
   "source": [
    "print(f\"Proportion de positive et negative critique:\\n{imdb.label.value_counts() / len(imdb)}\")"
   ]
  },
  {
   "attachments": {},
   "cell_type": "markdown",
   "metadata": {},
   "source": [
    "#### Convert the opinion string \"neg\" or \"pos\" to 0 or 1"
   ]
  },
  {
   "cell_type": "code",
   "execution_count": 12,
   "metadata": {},
   "outputs": [],
   "source": [
    "def convert(x):\n",
    "    \"\"\"\n",
    "    :return -> \"neg\" : 0, \"pos\" : 1\n",
    "    \"\"\"\n",
    "\n",
    "    if x == 'neg':\n",
    "        return 0\n",
    "    else:\n",
    "        return 1"
   ]
  },
  {
   "cell_type": "code",
   "execution_count": 13,
   "metadata": {},
   "outputs": [],
   "source": [
    "values = imdb['label'].apply(lambda x : convert(x))\n",
    "imdb['label'] = values"
   ]
  },
  {
   "cell_type": "code",
   "execution_count": 14,
   "metadata": {},
   "outputs": [
    {
     "data": {
      "text/html": [
       "<div>\n",
       "<style scoped>\n",
       "    .dataframe tbody tr th:only-of-type {\n",
       "        vertical-align: middle;\n",
       "    }\n",
       "\n",
       "    .dataframe tbody tr th {\n",
       "        vertical-align: top;\n",
       "    }\n",
       "\n",
       "    .dataframe thead th {\n",
       "        text-align: right;\n",
       "    }\n",
       "</style>\n",
       "<table border=\"1\" class=\"dataframe\">\n",
       "  <thead>\n",
       "    <tr style=\"text-align: right;\">\n",
       "      <th></th>\n",
       "      <th>docid</th>\n",
       "      <th>label</th>\n",
       "    </tr>\n",
       "  </thead>\n",
       "  <tbody>\n",
       "    <tr>\n",
       "      <th>0</th>\n",
       "      <td>0_3</td>\n",
       "      <td>0</td>\n",
       "    </tr>\n",
       "    <tr>\n",
       "      <th>1</th>\n",
       "      <td>100_3</td>\n",
       "      <td>0</td>\n",
       "    </tr>\n",
       "    <tr>\n",
       "      <th>2</th>\n",
       "      <td>101_1</td>\n",
       "      <td>0</td>\n",
       "    </tr>\n",
       "    <tr>\n",
       "      <th>3</th>\n",
       "      <td>102_1</td>\n",
       "      <td>0</td>\n",
       "    </tr>\n",
       "    <tr>\n",
       "      <th>4</th>\n",
       "      <td>103_1</td>\n",
       "      <td>0</td>\n",
       "    </tr>\n",
       "    <tr>\n",
       "      <th>...</th>\n",
       "      <td>...</td>\n",
       "      <td>...</td>\n",
       "    </tr>\n",
       "    <tr>\n",
       "      <th>597</th>\n",
       "      <td>96_10</td>\n",
       "      <td>1</td>\n",
       "    </tr>\n",
       "    <tr>\n",
       "      <th>598</th>\n",
       "      <td>97_9</td>\n",
       "      <td>1</td>\n",
       "    </tr>\n",
       "    <tr>\n",
       "      <th>599</th>\n",
       "      <td>98_10</td>\n",
       "      <td>1</td>\n",
       "    </tr>\n",
       "    <tr>\n",
       "      <th>600</th>\n",
       "      <td>99_8</td>\n",
       "      <td>1</td>\n",
       "    </tr>\n",
       "    <tr>\n",
       "      <th>601</th>\n",
       "      <td>9_7</td>\n",
       "      <td>1</td>\n",
       "    </tr>\n",
       "  </tbody>\n",
       "</table>\n",
       "<p>602 rows × 2 columns</p>\n",
       "</div>"
      ],
      "text/plain": [
       "     docid  label\n",
       "0      0_3      0\n",
       "1    100_3      0\n",
       "2    101_1      0\n",
       "3    102_1      0\n",
       "4    103_1      0\n",
       "..     ...    ...\n",
       "597  96_10      1\n",
       "598   97_9      1\n",
       "599  98_10      1\n",
       "600   99_8      1\n",
       "601    9_7      1\n",
       "\n",
       "[602 rows x 2 columns]"
      ]
     },
     "execution_count": 14,
     "metadata": {},
     "output_type": "execute_result"
    }
   ],
   "source": [
    "imdb[['docid', 'label']]"
   ]
  },
  {
   "attachments": {},
   "cell_type": "markdown",
   "metadata": {},
   "source": [
    "#### Find the longest review and the shortest review"
   ]
  },
  {
   "cell_type": "code",
   "execution_count": 15,
   "metadata": {},
   "outputs": [
    {
     "name": "stdout",
     "output_type": "stream",
     "text": [
      "The longest review: \n",
      "6037\n",
      "The shortest review: \n",
      "65\n"
     ]
    }
   ],
   "source": [
    "length_critique = imdb.text.str.len()\n",
    "\n",
    "print(f\"The longest review: \\n{max(length_critique)}\")\n",
    "print(f\"The shortest review: \\n{min(length_critique)}\")"
   ]
  },
  {
   "attachments": {},
   "cell_type": "markdown",
   "metadata": {},
   "source": [
    "### Bag-of-words : BOW representation and Tfidf on sentiment data "
   ]
  },
  {
   "cell_type": "code",
   "execution_count": 16,
   "metadata": {},
   "outputs": [],
   "source": [
    "from sklearn.feature_extraction.text import CountVectorizer, TfidfVectorizer, ENGLISH_STOP_WORDS\n",
    "\n",
    "# Define the vectorizer and specify the arguments\n",
    "my_pattern = r'\\b[^\\d\\W][^\\d\\W]+\\b'\n",
    "\n",
    "vect1 = CountVectorizer(\n",
    "    max_features=200, \n",
    "    ngram_range=(1,1), \n",
    "    max_df=100,\n",
    "    token_pattern=my_pattern, \n",
    "    stop_words=ENGLISH_STOP_WORDS)\n",
    "\n",
    "vect2 = TfidfVectorizer(\n",
    "    max_features=200, \n",
    "    ngram_range=(1,1), \n",
    "    max_df=100, \n",
    "    token_pattern=my_pattern, \n",
    "    stop_words=ENGLISH_STOP_WORDS)\n",
    "\n",
    "vect1.fit(imdb.text)\n",
    "vect2.fit(imdb.text)\n",
    "\n",
    "X_text1 = vect1.transform(imdb.text)\n",
    "X_text2 = vect2.transform(imdb.text)\n",
    "\n",
    "X_df1 = pd.DataFrame(X_text1.toarray(), columns=vect1.get_feature_names_out())\n",
    "X_df2 = pd.DataFrame(X_text2.toarray(), columns=vect2.get_feature_names_out())"
   ]
  },
  {
   "cell_type": "code",
   "execution_count": 17,
   "metadata": {},
   "outputs": [
    {
     "name": "stdout",
     "output_type": "stream",
     "text": [
      "5 premiers rangs en utilisant BOW: \n",
      "    action  actor  actors  actress  actually  american  audience  away  awful  \\\n",
      "0       0      0       0        0         0         0         1     0      0   \n",
      "1       0      0       0        0         0         0         0     0      2   \n",
      "2       0      1       0        0         0         0         0     0      0   \n",
      "3       0      0       0        0         0         1         0     0      0   \n",
      "4       0      0       0        0         0         0         0     0      0   \n",
      "\n",
      "   beautiful  ...  woman  women  won  wonderful  world  worst  worth  year  \\\n",
      "0          0  ...      0      0    0          0      0      0      0     0   \n",
      "1          0  ...      0      0    0          0      0      0      0     0   \n",
      "2          0  ...      0      0    0          0      0      1      0     0   \n",
      "3          0  ...      0      0    0          0      0      1      0     0   \n",
      "4          0  ...      0      0    0          0      0      0      0     0   \n",
      "\n",
      "   years  young  \n",
      "0      0      0  \n",
      "1      0      0  \n",
      "2      0      0  \n",
      "3      0      0  \n",
      "4      0      0  \n",
      "\n",
      "[5 rows x 200 columns]\n",
      "\n",
      "5 premiers rangs en utilisant Tfidf: \n",
      "    action     actor  actors  actress  actually  american  audience  away  \\\n",
      "0     0.0  0.000000     0.0      0.0       0.0  0.000000  0.490897   0.0   \n",
      "1     0.0  0.000000     0.0      0.0       0.0  0.000000  0.000000   0.0   \n",
      "2     0.0  0.200694     0.0      0.0       0.0  0.000000  0.000000   0.0   \n",
      "3     0.0  0.000000     0.0      0.0       0.0  0.259277  0.000000   0.0   \n",
      "4     0.0  0.000000     0.0      0.0       0.0  0.000000  0.000000   0.0   \n",
      "\n",
      "      awful  beautiful  ...  woman  women  won  wonderful  world     worst  \\\n",
      "0  0.000000        0.0  ...    0.0    0.0  0.0        0.0    0.0  0.000000   \n",
      "1  0.567277        0.0  ...    0.0    0.0  0.0        0.0    0.0  0.000000   \n",
      "2  0.000000        0.0  ...    0.0    0.0  0.0        0.0    0.0  0.199555   \n",
      "3  0.000000        0.0  ...    0.0    0.0  0.0        0.0    0.0  0.243934   \n",
      "4  0.000000        0.0  ...    0.0    0.0  0.0        0.0    0.0  0.000000   \n",
      "\n",
      "   worth  year  years  young  \n",
      "0    0.0   0.0    0.0    0.0  \n",
      "1    0.0   0.0    0.0    0.0  \n",
      "2    0.0   0.0    0.0    0.0  \n",
      "3    0.0   0.0    0.0    0.0  \n",
      "4    0.0   0.0    0.0    0.0  \n",
      "\n",
      "[5 rows x 200 columns]\n"
     ]
    }
   ],
   "source": [
    "print(f\"5 premiers rangs en utilisant BOW: \\n {X_df1.head()}\")\n",
    "print()\n",
    "print(f\"5 premiers rangs en utilisant Tfidf: \\n {X_df2.head()}\")"
   ]
  },
  {
   "cell_type": "code",
   "execution_count": 18,
   "metadata": {},
   "outputs": [
    {
     "name": "stdout",
     "output_type": "stream",
     "text": [
      "Le corpus a 602 lignes et 200 colonnes\n",
      "Et voici un échantillon :\n",
      "[[0.         0.         0.         0.         0.         0.\n",
      "  0.49089661 0.         0.         0.        ]\n",
      " [0.         0.         0.         0.         0.         0.\n",
      "  0.         0.         0.56727689 0.        ]\n",
      " [0.         0.20069388 0.         0.         0.         0.\n",
      "  0.         0.         0.         0.        ]\n",
      " [0.         0.         0.         0.         0.         0.25927677\n",
      "  0.         0.         0.         0.        ]\n",
      " [0.         0.         0.         0.         0.         0.\n",
      "  0.         0.         0.         0.        ]]\n",
      "\n",
      "La classe a 602 lignes\n"
     ]
    }
   ],
   "source": [
    "# Convert the features and targets to a NumPy array\n",
    "X = X_df2.to_numpy() # The text has been transformed, using Tfidf, to numeric columns\n",
    "print(f\"Le corpus a {X.shape[0]} lignes et {X.shape[1]} colonnes\")\n",
    "print(\"Et voici un échantillon :\")\n",
    "sample = X_text2[:5, :10].todense()\n",
    "print(sample)\n",
    "\n",
    "print()\n",
    "y = imdb[\"label\"].to_numpy()\n",
    "print(f\"La classe a {y.shape[0]} lignes\")"
   ]
  },
  {
   "attachments": {},
   "cell_type": "markdown",
   "metadata": {},
   "source": [
    "### Binary Classification Model"
   ]
  },
  {
   "cell_type": "code",
   "execution_count": 19,
   "metadata": {},
   "outputs": [],
   "source": [
    "# Split into training and testing\n",
    "from sklearn.model_selection import train_test_split\n",
    "X_train, X_test, y_train, y_test = train_test_split(X, y, test_size=0.2, random_state=60, stratify=y)"
   ]
  },
  {
   "cell_type": "code",
   "execution_count": 20,
   "metadata": {},
   "outputs": [],
   "source": [
    "# Train a logistic regression\n",
    "from sklearn.linear_model import LogisticRegression\n",
    "log_reg = LogisticRegression().fit(X_train, y_train)"
   ]
  },
  {
   "attachments": {},
   "cell_type": "markdown",
   "metadata": {},
   "source": [
    "#### Model metrics"
   ]
  },
  {
   "cell_type": "code",
   "execution_count": 21,
   "metadata": {},
   "outputs": [
    {
     "name": "stdout",
     "output_type": "stream",
     "text": [
      "Score de précision sur les données de train:  0.8794178794178794\n",
      "Score de précision sur les données de test:  0.743801652892562\n"
     ]
    }
   ],
   "source": [
    "from sklearn.metrics import accuracy_score\n",
    "\n",
    "y_predicted = log_reg.predict(X_test) \n",
    "\n",
    "print('Score de précision sur les données de train: ', log_reg.score(X_train, y_train))\n",
    "print('Score de précision sur les données de test: ', accuracy_score(y_test, y_predicted))"
   ]
  },
  {
   "cell_type": "code",
   "execution_count": 22,
   "metadata": {},
   "outputs": [
    {
     "data": {
      "text/plain": [
       "0.5061603966209111"
      ]
     },
     "execution_count": 22,
     "metadata": {},
     "output_type": "execute_result"
    }
   ],
   "source": [
    "from sklearn.metrics import mean_squared_error \n",
    "mean_squared_error(y_test, y_predicted, squared=False)"
   ]
  },
  {
   "cell_type": "code",
   "execution_count": 22,
   "metadata": {},
   "outputs": [
    {
     "name": "stdout",
     "output_type": "stream",
     "text": [
      "[[0.3553719  0.14049587]\n",
      " [0.11570248 0.38842975]]\n"
     ]
    }
   ],
   "source": [
    "from sklearn.metrics import confusion_matrix\n",
    "print(confusion_matrix(y_test, y_predicted)/len(y_test))"
   ]
  },
  {
   "cell_type": "code",
   "execution_count": 23,
   "metadata": {},
   "outputs": [
    {
     "name": "stdout",
     "output_type": "stream",
     "text": [
      "Les premières 10 probabilités prédictes : \n",
      "\n",
      "[[0.37654419 0.62345581]\n",
      " [0.68972979 0.31027021]\n",
      " [0.48996004 0.51003996]\n",
      " [0.4848762  0.5151238 ]\n",
      " [0.66968655 0.33031345]\n",
      " [0.1195592  0.8804408 ]\n",
      " [0.747223   0.252777  ]\n",
      " [0.42517459 0.57482541]\n",
      " [0.25735499 0.74264501]\n",
      " [0.37617887 0.62382113]]\n"
     ]
    }
   ],
   "source": [
    "# Predict probability \n",
    "y_proba = log_reg.predict_proba(X_test)\n",
    "print(f\"Les premières 10 probabilités prédictes : \\n\\n{y_proba[:10]}\")"
   ]
  },
  {
   "attachments": {},
   "cell_type": "markdown",
   "metadata": {},
   "source": [
    "#### Plot the ROC curve"
   ]
  },
  {
   "cell_type": "code",
   "execution_count": 24,
   "metadata": {},
   "outputs": [],
   "source": [
    "from matplotlib import pyplot as plt"
   ]
  },
  {
   "cell_type": "code",
   "execution_count": 25,
   "metadata": {},
   "outputs": [
    {
     "data": {
      "image/png": "[encoded data removed]",
      "text/plain": [
       "<Figure size 640x480 with 1 Axes>"
      ]
     },
     "metadata": {},
     "output_type": "display_data"
    }
   ],
   "source": [
    "from sklearn.metrics import roc_curve \n",
    "fp, tp, thresholds = roc_curve(y_test, y_proba[:,1])\n",
    "plt.plot([0, 1], [0, 1], 'k--') \n",
    "plt.plot(fp, tp) \n",
    "plt.xlabel('Taux de faux positifs') \n",
    "plt.ylabel('Taux de vrais positifs') \n",
    "plt.title('Logistic Regression ROC Curve')\n",
    "plt.show()"
   ]
  },
  {
   "attachments": {},
   "cell_type": "markdown",
   "metadata": {},
   "source": [
    "#### Cross-validation"
   ]
  },
  {
   "cell_type": "code",
   "execution_count": 26,
   "metadata": {},
   "outputs": [
    {
     "name": "stdout",
     "output_type": "stream",
     "text": [
      "[0.7768595  0.71900826 0.70833333 0.775      0.75      ]\n",
      "0.745840220385675 0.028130101004969106\n"
     ]
    }
   ],
   "source": [
    "from sklearn.model_selection import cross_val_score, KFold\n",
    "import numpy as np\n",
    "\n",
    "kf = KFold(n_splits=5, shuffle=True, random_state=60) \n",
    "log_reg = LogisticRegression()\n",
    "cv_results = cross_val_score(log_reg, X, y, cv=kf)\n",
    "print(cv_results)\n",
    "print(np.mean(cv_results), np.std(cv_results))"
   ]
  },
  {
   "attachments": {},
   "cell_type": "markdown",
   "metadata": {},
   "source": [
    "#### Regularized logistic regression"
   ]
  },
  {
   "cell_type": "code",
   "execution_count": 27,
   "metadata": {},
   "outputs": [
    {
     "name": "stdout",
     "output_type": "stream",
     "text": [
      "plus de régularisation : précision d'apprentissage plus faible :\n",
      " weak: 0.9771309771309772, strong: 0.8336798336798337\n",
      "\n",
      "plus de régularisation : une meilleure précision du test :\n",
      " weak:0.6942148760330579, strong: 0.8099173553719008\n"
     ]
    }
   ],
   "source": [
    "weak_reg = LogisticRegression(C=100)\n",
    "strong_reg = LogisticRegression(C=0.01)\n",
    "\n",
    "weak_reg.fit(X_train, y_train)\n",
    "strong_reg.fit(X_train, y_train)\n",
    "\n",
    "reg1_train = weak_reg.score(X_train, y_train)\n",
    "reg2_train = strong_reg.score(X_train, y_train)\n",
    "print(f\"plus de régularisation : précision d'apprentissage plus faible :\\n weak: {reg1_train}, strong: {reg2_train}\")\n",
    "print()\n",
    "reg1_test = weak_reg.score(X_test, y_test)\n",
    "reg2_test = strong_reg.score(X_test, y_test)\n",
    "print(f\"plus de régularisation : une meilleure précision du test :\\n weak:{reg1_test}, strong: {reg2_test}\")"
   ]
  },
  {
   "attachments": {},
   "cell_type": "markdown",
   "metadata": {},
   "source": [
    "#### L1 L2 Regularization \n",
    "> Un coefficient élevé peut conduire à un ajustement excessif `overfitting`  \n",
    "> L2 -> réduit tous les coefficients vers zéro  \n",
    "> Régularisation : Pénaliser les coefficients élevés"
   ]
  },
  {
   "cell_type": "code",
   "execution_count": 28,
   "metadata": {},
   "outputs": [
    {
     "data": {
      "text/plain": [
       "LogisticRegression()"
      ]
     },
     "execution_count": 28,
     "metadata": {},
     "output_type": "execute_result"
    }
   ],
   "source": [
    "log_L1 = LogisticRegression(penalty='l1', solver='liblinear')\n",
    "log_L2 = LogisticRegression(penalty='l2') \n",
    "\n",
    "log_L1.fit(X_train, y_train) \n",
    "log_L2.fit(X_train, y_train)"
   ]
  },
  {
   "cell_type": "code",
   "execution_count": 29,
   "metadata": {},
   "outputs": [
    {
     "data": {
      "text/plain": [
       "[<matplotlib.lines.Line2D at 0x20247be6970>]"
      ]
     },
     "execution_count": 29,
     "metadata": {},
     "output_type": "execute_result"
    },
    {
     "data": {
      "image/png": "[encoded data removed]",
      "text/plain": [
       "<Figure size 640x480 with 1 Axes>"
      ]
     },
     "metadata": {},
     "output_type": "display_data"
    }
   ],
   "source": [
    "plt.plot(log_L1.coef_.flatten())"
   ]
  },
  {
   "cell_type": "code",
   "execution_count": 30,
   "metadata": {},
   "outputs": [
    {
     "data": {
      "text/plain": [
       "[<matplotlib.lines.Line2D at 0x20247caad60>]"
      ]
     },
     "execution_count": 30,
     "metadata": {},
     "output_type": "execute_result"
    },
    {
     "data": {
      "image/png": "[encoded data removed]",
      "text/plain": [
       "<Figure size 640x480 with 1 Axes>"
      ]
     },
     "metadata": {},
     "output_type": "display_data"
    }
   ],
   "source": [
    "plt.plot(log_L2.coef_.flatten())"
   ]
  },
  {
   "attachments": {},
   "cell_type": "markdown",
   "metadata": {},
   "source": [
    "#### GridSearchCV on Logistic Regression"
   ]
  },
  {
   "cell_type": "code",
   "execution_count": 31,
   "metadata": {},
   "outputs": [
    {
     "name": "stdout",
     "output_type": "stream",
     "text": [
      "0.7629295532646048\n",
      "{'C': 1, 'penalty': 'l2', 'solver': 'lbfgs'}\n"
     ]
    }
   ],
   "source": [
    "from sklearn.model_selection import GridSearchCV\n",
    "\n",
    "kf = KFold(n_splits=5, shuffle=True, random_state=60)\n",
    "param_grid = {\"C\": [0.001, 0.01, 0.1, 1, 10, 100, 1000], \n",
    "              \"penalty\": ['l2'],\n",
    "              \"solver\":['lbfgs', 'sag', 'saga', 'newton-cg']}\n",
    "\n",
    "model_lr = LogisticRegression(max_iter=1000)\n",
    "lr_grid = GridSearchCV(model_lr, param_grid, cv=kf, error_score='raise')\n",
    "lr_grid.fit(X_train, y_train)\n",
    "print(lr_grid.best_score_)\n",
    "print(lr_grid.best_params_)"
   ]
  },
  {
   "cell_type": "code",
   "execution_count": 32,
   "metadata": {},
   "outputs": [
    {
     "name": "stdout",
     "output_type": "stream",
     "text": [
      "0.743801652892562\n"
     ]
    }
   ],
   "source": [
    "test_score = lr_grid.score(X_test, y_test)\n",
    "print(test_score)"
   ]
  },
  {
   "attachments": {},
   "cell_type": "markdown",
   "metadata": {},
   "source": [
    "### Ranking Classifier"
   ]
  },
  {
   "cell_type": "code",
   "execution_count": 33,
   "metadata": {},
   "outputs": [],
   "source": [
    "from sklearn.tree import DecisionTreeClassifier \n",
    "from sklearn.neighbors import KNeighborsClassifier as KNN\n",
    "from sklearn.metrics import classification_report\n",
    "\n",
    "def rc(SEED):\n",
    "\n",
    "    X_train, X_test, y_train, y_test = train_test_split(X, y, test_size= 0.2, random_state= SEED)\n",
    "\n",
    "    \n",
    "    log_reg = LogisticRegression(random_state=SEED) \n",
    "    knn = KNN()\n",
    "    dt = DecisionTreeClassifier(random_state=SEED)\n",
    "    \n",
    "    classifiers = [('Logistic Regression', log_reg), \n",
    "               ('K Nearest Neighbours', knn),\n",
    "               ('DecisionTreeClassifier', dt)]\n",
    "\n",
    "    for clf_name, clf in classifiers: \n",
    "        clf.fit(X_train, y_train)\n",
    "        y_pred = clf.predict(X_test)\n",
    "\n",
    "        print('{:s} : {:.2f}'.format(clf_name, accuracy_score(y_test, y_pred)))\n",
    "        print(classification_report(y_test, y_pred))"
   ]
  },
  {
   "cell_type": "code",
   "execution_count": 34,
   "metadata": {},
   "outputs": [
    {
     "name": "stdout",
     "output_type": "stream",
     "text": [
      "Logistic Regression : 0.78\n",
      "              precision    recall  f1-score   support\n",
      "\n",
      "           0       0.69      0.87      0.77        52\n",
      "           1       0.88      0.71      0.78        69\n",
      "\n",
      "    accuracy                           0.78       121\n",
      "   macro avg       0.78      0.79      0.78       121\n",
      "weighted avg       0.80      0.78      0.78       121\n",
      "\n",
      "K Nearest Neighbours : 0.74\n",
      "              precision    recall  f1-score   support\n",
      "\n",
      "           0       0.66      0.79      0.72        52\n",
      "           1       0.81      0.70      0.75        69\n",
      "\n",
      "    accuracy                           0.74       121\n",
      "   macro avg       0.74      0.74      0.73       121\n",
      "weighted avg       0.75      0.74      0.74       121\n",
      "\n",
      "DecisionTreeClassifier : 0.71\n",
      "              precision    recall  f1-score   support\n",
      "\n",
      "           0       0.67      0.65      0.66        52\n",
      "           1       0.74      0.75      0.75        69\n",
      "\n",
      "    accuracy                           0.71       121\n",
      "   macro avg       0.70      0.70      0.70       121\n",
      "weighted avg       0.71      0.71      0.71       121\n",
      "\n"
     ]
    }
   ],
   "source": [
    "rc(60)"
   ]
  },
  {
   "attachments": {},
   "cell_type": "markdown",
   "metadata": {},
   "source": [
    "Les résultats indique que parmi les trois classifieurs, la précision la plus haute est obtenue par Logistic Regression, soit 0.78."
   ]
  },
  {
   "attachments": {},
   "cell_type": "markdown",
   "metadata": {},
   "source": [
    "### Build new features from text"
   ]
  },
  {
   "attachments": {},
   "cell_type": "markdown",
   "metadata": {},
   "source": [
    "#### Tokenization with spaCy and count the number tokens in each reviews"
   ]
  },
  {
   "cell_type": "code",
   "execution_count": 35,
   "metadata": {},
   "outputs": [],
   "source": [
    "import spacy \n",
    "nlp = spacy.load(\"en_core_web_sm\")"
   ]
  },
  {
   "cell_type": "code",
   "execution_count": 36,
   "metadata": {},
   "outputs": [],
   "source": [
    "def nb_tokens(list_text):\n",
    "    \"\"\"\n",
    "    :return : length of tokens in each text -> list [123, 121, 274...]\n",
    "    \"\"\"\n",
    "    len_tokens = []\n",
    "\n",
    "    for i in range(len(list_text)):\n",
    "        token_list = [token.text for token in list_text[i]]\n",
    "\n",
    "        for length in [len(token_list)]:\n",
    "            len_tokens.append(str(length))\n",
    "\n",
    "    return len_tokens\n",
    "\n",
    "text_list = [nlp(item) for item in imdb.text]\n",
    "length = nb_tokens(text_list)"
   ]
  },
  {
   "cell_type": "code",
   "execution_count": 37,
   "metadata": {},
   "outputs": [
    {
     "data": {
      "text/html": [
       "<div>\n",
       "<style scoped>\n",
       "    .dataframe tbody tr th:only-of-type {\n",
       "        vertical-align: middle;\n",
       "    }\n",
       "\n",
       "    .dataframe tbody tr th {\n",
       "        vertical-align: top;\n",
       "    }\n",
       "\n",
       "    .dataframe thead th {\n",
       "        text-align: right;\n",
       "    }\n",
       "</style>\n",
       "<table border=\"1\" class=\"dataframe\">\n",
       "  <thead>\n",
       "    <tr style=\"text-align: right;\">\n",
       "      <th></th>\n",
       "      <th>docid</th>\n",
       "      <th>text</th>\n",
       "      <th>label</th>\n",
       "      <th>nb_tokens</th>\n",
       "    </tr>\n",
       "  </thead>\n",
       "  <tbody>\n",
       "    <tr>\n",
       "      <th>0</th>\n",
       "      <td>0_3</td>\n",
       "      <td>Story of a man who has unnatural feelings for ...</td>\n",
       "      <td>0</td>\n",
       "      <td>123</td>\n",
       "    </tr>\n",
       "    <tr>\n",
       "      <th>1</th>\n",
       "      <td>100_3</td>\n",
       "      <td>OK its not the best film I've ever seen but at...</td>\n",
       "      <td>0</td>\n",
       "      <td>121</td>\n",
       "    </tr>\n",
       "    <tr>\n",
       "      <th>2</th>\n",
       "      <td>101_1</td>\n",
       "      <td>Amateur, no budget films can be surprisingly g...</td>\n",
       "      <td>0</td>\n",
       "      <td>274</td>\n",
       "    </tr>\n",
       "    <tr>\n",
       "      <th>3</th>\n",
       "      <td>102_1</td>\n",
       "      <td>My girlfriend once brought around The Zombie C...</td>\n",
       "      <td>0</td>\n",
       "      <td>215</td>\n",
       "    </tr>\n",
       "    <tr>\n",
       "      <th>4</th>\n",
       "      <td>103_1</td>\n",
       "      <td>Without wishing to be a killjoy, Brad Sykes is...</td>\n",
       "      <td>0</td>\n",
       "      <td>124</td>\n",
       "    </tr>\n",
       "  </tbody>\n",
       "</table>\n",
       "</div>"
      ],
      "text/plain": [
       "   docid                                               text  label nb_tokens\n",
       "0    0_3  Story of a man who has unnatural feelings for ...      0       123\n",
       "1  100_3  OK its not the best film I've ever seen but at...      0       121\n",
       "2  101_1  Amateur, no budget films can be surprisingly g...      0       274\n",
       "3  102_1  My girlfriend once brought around The Zombie C...      0       215\n",
       "4  103_1  Without wishing to be a killjoy, Brad Sykes is...      0       124"
      ]
     },
     "execution_count": 37,
     "metadata": {},
     "output_type": "execute_result"
    }
   ],
   "source": [
    "imdb['nb_tokens'] = length\n",
    "imdb.head()"
   ]
  },
  {
   "attachments": {},
   "cell_type": "markdown",
   "metadata": {},
   "source": [
    "#### Find the 10 most frequent words in positives and negatives reviews"
   ]
  },
  {
   "cell_type": "code",
   "execution_count": 38,
   "metadata": {},
   "outputs": [],
   "source": [
    "from collections import Counter"
   ]
  },
  {
   "cell_type": "code",
   "execution_count": 39,
   "metadata": {},
   "outputs": [
    {
     "name": "stdout",
     "output_type": "stream",
     "text": [
      "[('good', 165), ('bad', 151), ('other', 90), ('more', 89), ('first', 73), ('many', 69), ('great', 63), ('little', 61), ('better', 60), ('same', 60)]\n"
     ]
    }
   ],
   "source": [
    "def neg_adj_freq(text_neg):\n",
    "\n",
    "    \"\"\"\n",
    "    :return \n",
    "    \"\"\"\n",
    "    text_list = [nlp(item) for item in text_neg]\n",
    "    neg_adj_list = []\n",
    "    \n",
    "    for i in range(len(text_list)):\n",
    "        token_list = [token.text for token in text_list[i] if token.pos_ == 'ADJ']\n",
    "\n",
    "        for adj in token_list:\n",
    "            neg_adj_list.append(adj)\n",
    "    \n",
    "    count_adj = Counter(neg_adj_list)\n",
    "    return count_adj.most_common(10)\n",
    "\n",
    "neg_text = imdb[imdb['label'] == 0]['text']\n",
    "neg_freq = neg_adj_freq(neg_text)\n",
    "print(neg_freq)"
   ]
  },
  {
   "cell_type": "code",
   "execution_count": 40,
   "metadata": {},
   "outputs": [
    {
     "name": "stdout",
     "output_type": "stream",
     "text": [
      "[('good', 188), ('great', 139), ('other', 119), ('more', 116), ('first', 90), ('best', 81), ('many', 78), ('little', 71), ('old', 57), ('real', 54)]\n"
     ]
    }
   ],
   "source": [
    "def pos_adj_freq(text_pos):\n",
    "    \n",
    "    \n",
    "    text_list = [nlp(item) for item in text_pos]\n",
    "    pos_adj_list = []\n",
    "\n",
    "    for i in range(len(text_list)):\n",
    "        token_list = [token.text for token in text_list[i] if token.pos_ == 'ADJ']\n",
    "\n",
    "        for adj in token_list:\n",
    "            pos_adj_list.append(adj)\n",
    "\n",
    "    count_adj = Counter(pos_adj_list)\n",
    "    return count_adj.most_common(10)\n",
    "\n",
    "pos_text = imdb[imdb['label'] == 1]['text']\n",
    "pos_freq = pos_adj_freq(pos_text)\n",
    "print(pos_freq)"
   ]
  },
  {
   "attachments": {},
   "cell_type": "markdown",
   "metadata": {},
   "source": [
    "> Résumé :  \n",
    "> Il n'est pas très pertinent de trouver la fréquence d'un seul mot, puisque dans tous les texts négatifs, on a aussi obtenu le mot `good`, `great` et `better` que ceux affichés généralement souvent dans le contexte positive. "
   ]
  },
  {
   "attachments": {},
   "cell_type": "markdown",
   "metadata": {},
   "source": [
    "#### Identifying and count the number of named entities"
   ]
  },
  {
   "cell_type": "code",
   "execution_count": 41,
   "metadata": {},
   "outputs": [
    {
     "name": "stdout",
     "output_type": "stream",
     "text": [
      "{'WORK_OF_ART': 102, 'DATE': 202, 'ORG': 298, 'PERSON': 675, 'TIME': 38, 'ORDINAL': 13, 'GPE': 119, 'LOC': 19, 'CARDINAL': 69, 'FAC': 21, 'NORP': 58, 'MONEY': 8, 'EVENT': 13, 'PRODUCT': 23, 'PERCENT': 1, 'LANGUAGE': 4, 'LAW': 3, 'QUANTITY': 1}\n"
     ]
    }
   ],
   "source": [
    "def ent_pos(test_pos):\n",
    "\n",
    "    en_pos_dict = {}\n",
    "    values_cnt={}\n",
    "\n",
    "    text_list = [item for item in pos_text]\n",
    "    \n",
    "    for doc in nlp.pipe(text_list,disable=[\"tok2vec\", \"tagger\", \"parser\", \"attribute_ruler\", \"lemmatizer\"]):\n",
    "        pos_ent = [(ent.text, ent.label_) for ent in doc.ents]\n",
    "\n",
    "        for content, label in pos_ent:\n",
    "            en_pos_dict[content] = label\n",
    "    # print(en_neg_dict) -> {'Teachers': 'WORK_OF_ART', 'My 35 years': 'DATE', \"Bromwell High's\": 'ORG'...}\n",
    "\n",
    "    for key, val in en_pos_dict.items():\n",
    "        values_cnt[val] = values_cnt.get(val,0)+1\n",
    "\n",
    "    print(values_cnt)\n",
    "\n",
    "\n",
    "pos_text = imdb[imdb['label'] == 1]['text']\n",
    "pos_ent = ent_pos(pos_text)"
   ]
  },
  {
   "cell_type": "code",
   "execution_count": 42,
   "metadata": {},
   "outputs": [
    {
     "name": "stdout",
     "output_type": "stream",
     "text": [
      "{'PERSON': 619, 'ORDINAL': 12, 'ORG': 273, 'PRODUCT': 15, 'CARDINAL': 85, 'WORK_OF_ART': 137, 'NORP': 71, 'MONEY': 13, 'FAC': 15, 'TIME': 85, 'GPE': 135, 'DATE': 190, 'PERCENT': 9, 'EVENT': 9, 'QUANTITY': 8, 'LOC': 31, 'LAW': 6}\n"
     ]
    }
   ],
   "source": [
    "def ent_neg(test_neg):\n",
    "\n",
    "    en_neg_dict = {}\n",
    "    values_cnt={}\n",
    "\n",
    "    text_list = [item for item in neg_text]\n",
    "    \n",
    "    for doc in nlp.pipe(text_list,disable=[\"tok2vec\", \"tagger\", \"parser\", \"attribute_ruler\", \"lemmatizer\"]):\n",
    "        neg_ent = [(ent.text, ent.label_) for ent in doc.ents]\n",
    "\n",
    "        for content, label in neg_ent:\n",
    "            en_neg_dict[content] = label\n",
    "    # print(en_neg_dict) -> {'Shakespeare': 'PERSON', 'third': 'ORDINAL', 'Vilmos Zsigmond': 'PERSON'...}\n",
    "\n",
    "    for key, val in en_neg_dict.items():\n",
    "        values_cnt[val]=values_cnt.get(val,0)+1\n",
    "        \n",
    "    print(values_cnt)\n",
    "\n",
    "\n",
    "neg_text = imdb[imdb['label'] == 0]['text']\n",
    "neg_ent = ent_neg(neg_text)"
   ]
  }
 ],
 "metadata": {
  "kernelspec": {
   "display_name": "base",
   "language": "python",
   "name": "python3"
  },
  "language_info": {
   "codemirror_mode": {
    "name": "ipython",
    "version": 3
   },
   "file_extension": ".py",
   "mimetype": "text/x-python",
   "name": "python",
   "nbconvert_exporter": "python",
   "pygments_lexer": "ipython3",
   "version": "3.9.15"
  },
  "orig_nbformat": 4,
  "vscode": {
   "interpreter": {
    "hash": "70e5acaf83b0f9ea8afe6c6d1db9fb33494f37a3b9a68a62f7e537677d1e5662"
   }
  }
 },
 "nbformat": 4,
 "nbformat_minor": 2
}
